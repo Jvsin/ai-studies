{
 "cells": [
  {
   "cell_type": "markdown",
   "id": "015118db",
   "metadata": {},
   "source": [
    "\n",
    "## Laboratorium 1\n",
    "\n",
    "\n",
    "### Opis\n",
    "\n",
    "Celem laboratorium jest instalacja środowiska programistycznego oraz zapoznanie się z podstawowymi bibliotekami do przetwarzania danych w języku Python.\n",
    "\n",
    "\n",
    "### Zbiór danych\n",
    "\n",
    "Zbiór danych znajduje się w katalogu `dataset/*`.\n",
    "\n",
    "### Przesyłanie zadań\n",
    "\n",
    "Wszystkie pliki należy spakować archiwizatorem **zip** i przesłać za pośrednictwem platformy WIKAMP. Poniżej oczekiwana zawartość archiwum:\n",
    "\n",
    "```\n",
    "+-- 📂 [IMIE.NAZWISKO].zip\n",
    "    +-- 📜 Lab01.ipynb\n",
    "    +-- 📂 dataset\n",
    "        +-- 📜 dane.npz\n",
    "        +-- 📜 dane-ludnosc.npz\n",
    "```\n",
    "\n",
    "\n",
    "\n",
    "### Instalacja środowiska\n",
    "\n",
    "Wymagania:\n",
    "- Python>=3.8\n",
    "- notebook\n",
    "- numpy\n",
    "- pandas\n",
    "- matplotlib\n",
    "- scikit-learn\n",
    "- scipy\n",
    "\n",
    "Sprawdź wersję Pythona jaką masz zainstalowaną w systemie:\n",
    "`python -V`\n",
    "\n",
    "#### Instalacja (dwa warianty):\n",
    "\n",
    "#### Dla zainstalowanej instancji Pythona\n",
    "\n",
    "`pip install notebook numpy pandas matplotlib scikit-learn scipy`\n",
    "\n",
    "#### Dla środowiska Conda\n",
    "\n",
    "`conda create -n smpd python=3.8 notebook numpy pandas matplotlib scikit-learn scipy`\n",
    "\n",
    "\n",
    "### Zadania\n",
    "\n",
    "#### Zadanie 1\n",
    "\n",
    "Wczytaj dane z pliku `dane.npz`. Plik ten zawiera zbiór danych zawierający **WYDATKI BUDŻETÓW WOJEWÓDZTW**.\n",
    "\n",
    "> Podpowiedź: Możesz wykorzystać poniższy kod:\n",
    "```python\n",
    "import numpy as np\n",
    "with open('./dataset/dane.npz', 'rb') as f:\n",
    "    content = np.load(f)\n",
    "    columns, data = content['columns'].tolist(), content['data'].tolist()\n",
    "```"
   ]
  },
  {
   "cell_type": "code",
   "execution_count": 1,
   "id": "fd6e4348",
   "metadata": {},
   "outputs": [],
   "source": [
    "# TUTAJ UMIESC SWOJ KOD\n",
    "import numpy as np\n",
    "with open('./dataset/dane.npz', 'rb') as f:\n",
    "    content = np.load(f)\n",
    "    columns, data = content['columns'].tolist(), content['data'].tolist()"
   ]
  },
  {
   "cell_type": "markdown",
   "id": "40d02277",
   "metadata": {},
   "source": [
    "#### Zadanie 2\n",
    "\n",
    "Zapoznaj się z zawartością zmiennych `columns` oraz `data`.\n"
   ]
  },
  {
   "cell_type": "code",
   "execution_count": 2,
   "id": "244b1d3a",
   "metadata": {},
   "outputs": [
    {
     "name": "stdout",
     "output_type": "stream",
     "text": [
      "['Kod', 'Nazwa', 'Rodzaje wydatków', 'Rok', 'Wartosc', 'Jednostka miary']\n",
      "[['0', 'POLSKA', 'ogółem', '1999', '3264607228.0', 'zł'], ['0', 'POLSKA', 'ogółem', '2000', '3787133133.0', 'zł'], ['0', 'POLSKA', 'ogółem', '2001', '4737055309.0', 'zł'], ['0', 'POLSKA', 'ogółem', '2002', '4340435516.0', 'zł'], ['0', 'POLSKA', 'ogółem', '2003', '4712741177.0', 'zł'], ['0', 'POLSKA', 'ogółem', '2004', '5863585414.0', 'zł'], ['0', 'POLSKA', 'ogółem', '2005', '7587500436.0', 'zł'], ['0', 'POLSKA', 'ogółem', '2006', '10028070586.83', 'zł'], ['0', 'POLSKA', 'ogółem', '2007', '11092205633.0', 'zł'], ['0', 'POLSKA', 'ogółem', '2008', '13002732460.09', 'zł'], ['0', 'POLSKA', 'ogółem', '2009', '20468689843.22', 'zł'], ['0', 'POLSKA', 'ogółem', '2010', '15245026612.26', 'zł'], ['0', 'POLSKA', 'ogółem', '2011', '16338628783.13', 'zł'], ['0', 'POLSKA', 'ogółem', '2012', '15760512613.81', 'zł'], ['0', 'POLSKA', 'ogółem', '2013', '16527004353.48', 'zł'], ['0', 'POLSKA', 'ogółem', '2014', '18238330769.01', 'zł'], ['0', 'POLSKA', 'ogółem', '2015', '17202651482.84', 'zł'], ['0', 'POLSKA', 'ogółem', '2016', '12617384930.36', 'zł'], ['0', 'POLSKA', 'ogółem', '2017', '14317428700.59', 'zł'], ['0', 'POLSKA', 'ogółem', '2018', '16582311562.15', 'zł'], ['0', 'POLSKA', 'ogółem', '2019', '18375963681.15', 'zł'], ['0', 'POLSKA', 'ogółem', '2020', '19707968112.97', 'zł'], ['200000', 'DOLNOŚLĄSKIE', 'ogółem', '1999', '332802045.0', 'zł'], ['200000', 'DOLNOŚLĄSKIE', 'ogółem', '2000', '350236602.0', 'zł'], ['200000', 'DOLNOŚLĄSKIE', 'ogółem', '2001', '382044343.0', 'zł'], ['200000', 'DOLNOŚLĄSKIE', 'ogółem', '2002', '320081153.0', 'zł'], ['200000', 'DOLNOŚLĄSKIE', 'ogółem', '2003', '330114483.0', 'zł'], ['200000', 'DOLNOŚLĄSKIE', 'ogółem', '2004', '416662666.0', 'zł'], ['200000', 'DOLNOŚLĄSKIE', 'ogółem', '2005', '569402213.0', 'zł'], ['200000', 'DOLNOŚLĄSKIE', 'ogółem', '2006', '795303951.22', 'zł'], ['200000', 'DOLNOŚLĄSKIE', 'ogółem', '2007', '877514650.05', 'zł'], ['200000', 'DOLNOŚLĄSKIE', 'ogółem', '2008', '1006184128.91', 'zł'], ['200000', 'DOLNOŚLĄSKIE', 'ogółem', '2009', '1590343803.76', 'zł'], ['200000', 'DOLNOŚLĄSKIE', 'ogółem', '2010', '1303375328.85', 'zł'], ['200000', 'DOLNOŚLĄSKIE', 'ogółem', '2011', '1516909961.39', 'zł'], ['200000', 'DOLNOŚLĄSKIE', 'ogółem', '2012', '1687230260.48', 'zł'], ['200000', 'DOLNOŚLĄSKIE', 'ogółem', '2013', '1588285409.15', 'zł'], ['200000', 'DOLNOŚLĄSKIE', 'ogółem', '2014', '1954250899.38', 'zł'], ['200000', 'DOLNOŚLĄSKIE', 'ogółem', '2015', '1301033971.69', 'zł'], ['200000', 'DOLNOŚLĄSKIE', 'ogółem', '2016', '1083042805.7', 'zł'], ['200000', 'DOLNOŚLĄSKIE', 'ogółem', '2017', '1120229836.62', 'zł'], ['200000', 'DOLNOŚLĄSKIE', 'ogółem', '2018', '1150624053.45', 'zł'], ['200000', 'DOLNOŚLĄSKIE', 'ogółem', '2019', '1114631253.78', 'zł'], ['200000', 'DOLNOŚLĄSKIE', 'ogółem', '2020', '1107876256.29', 'zł'], ['400000', 'KUJAWSKO-POMORSKIE', 'ogółem', '1999', '180977057.0', 'zł'], ['400000', 'KUJAWSKO-POMORSKIE', 'ogółem', '2000', '192597026.0', 'zł'], ['400000', 'KUJAWSKO-POMORSKIE', 'ogółem', '2001', '252214121.0', 'zł'], ['400000', 'KUJAWSKO-POMORSKIE', 'ogółem', '2002', '243974664.0', 'zł'], ['400000', 'KUJAWSKO-POMORSKIE', 'ogółem', '2003', '248833223.0', 'zł'], ['400000', 'KUJAWSKO-POMORSKIE', 'ogółem', '2004', '285705976.0', 'zł'], ['400000', 'KUJAWSKO-POMORSKIE', 'ogółem', '2005', '370238724.0', 'zł'], ['400000', 'KUJAWSKO-POMORSKIE', 'ogółem', '2006', '534325153.84', 'zł'], ['400000', 'KUJAWSKO-POMORSKIE', 'ogółem', '2007', '594098806.38', 'zł'], ['400000', 'KUJAWSKO-POMORSKIE', 'ogółem', '2008', '640715844.5', 'zł'], ['400000', 'KUJAWSKO-POMORSKIE', 'ogółem', '2009', '974548519.7', 'zł'], ['400000', 'KUJAWSKO-POMORSKIE', 'ogółem', '2010', '850822733.95', 'zł'], ['400000', 'KUJAWSKO-POMORSKIE', 'ogółem', '2011', '774997439.78', 'zł'], ['400000', 'KUJAWSKO-POMORSKIE', 'ogółem', '2012', '766102070.4', 'zł'], ['400000', 'KUJAWSKO-POMORSKIE', 'ogółem', '2013', '742254837.09', 'zł'], ['400000', 'KUJAWSKO-POMORSKIE', 'ogółem', '2014', '834913734.81', 'zł'], ['400000', 'KUJAWSKO-POMORSKIE', 'ogółem', '2015', '958712875.37', 'zł'], ['400000', 'KUJAWSKO-POMORSKIE', 'ogółem', '2016', '671315168.94', 'zł'], ['400000', 'KUJAWSKO-POMORSKIE', 'ogółem', '2017', '688719424.46', 'zł'], ['400000', 'KUJAWSKO-POMORSKIE', 'ogółem', '2018', '816078856.11', 'zł'], ['400000', 'KUJAWSKO-POMORSKIE', 'ogółem', '2019', '895048154.73', 'zł'], ['400000', 'KUJAWSKO-POMORSKIE', 'ogółem', '2020', '1060355763.78', 'zł'], ['600000', 'LUBELSKIE', 'ogółem', '1999', '177574160.0', 'zł'], ['600000', 'LUBELSKIE', 'ogółem', '2000', '234882079.0', 'zł'], ['600000', 'LUBELSKIE', 'ogółem', '2001', '276343246.0', 'zł'], ['600000', 'LUBELSKIE', 'ogółem', '2002', '244412631.0', 'zł'], ['600000', 'LUBELSKIE', 'ogółem', '2003', '348524747.0', 'zł'], ['600000', 'LUBELSKIE', 'ogółem', '2004', '335227919.0', 'zł'], ['600000', 'LUBELSKIE', 'ogółem', '2005', '365582182.0', 'zł'], ['600000', 'LUBELSKIE', 'ogółem', '2006', '487065495.98', 'zł'], ['600000', 'LUBELSKIE', 'ogółem', '2007', '520750157.73', 'zł'], ['600000', 'LUBELSKIE', 'ogółem', '2008', '698605287.8', 'zł'], ['600000', 'LUBELSKIE', 'ogółem', '2009', '954263984.12', 'zł'], ['600000', 'LUBELSKIE', 'ogółem', '2010', '767225609.49', 'zł'], ['600000', 'LUBELSKIE', 'ogółem', '2011', '896838689.13', 'zł'], ['600000', 'LUBELSKIE', 'ogółem', '2012', '840835098.36', 'zł'], ['600000', 'LUBELSKIE', 'ogółem', '2013', '1039809399.75', 'zł'], ['600000', 'LUBELSKIE', 'ogółem', '2014', '1485218648.55', 'zł'], ['600000', 'LUBELSKIE', 'ogółem', '2015', '1340530862.79', 'zł'], ['600000', 'LUBELSKIE', 'ogółem', '2016', '735269130.65', 'zł'], ['600000', 'LUBELSKIE', 'ogółem', '2017', '858899366.66', 'zł'], ['600000', 'LUBELSKIE', 'ogółem', '2018', '935703842.15', 'zł'], ['600000', 'LUBELSKIE', 'ogółem', '2019', '1234156705.55', 'zł'], ['600000', 'LUBELSKIE', 'ogółem', '2020', '906992712.98', 'zł'], ['800000', 'LUBUSKIE', 'ogółem', '1999', '128535790.0', 'zł'], ['800000', 'LUBUSKIE', 'ogółem', '2000', '148514103.0', 'zł'], ['800000', 'LUBUSKIE', 'ogółem', '2001', '172469671.0', 'zł'], ['800000', 'LUBUSKIE', 'ogółem', '2002', '172135111.0', 'zł'], ['800000', 'LUBUSKIE', 'ogółem', '2003', '164387435.0', 'zł'], ['800000', 'LUBUSKIE', 'ogółem', '2004', '192923942.0', 'zł'], ['800000', 'LUBUSKIE', 'ogółem', '2005', '240113553.0', 'zł'], ['800000', 'LUBUSKIE', 'ogółem', '2006', '307897396.69', 'zł'], ['800000', 'LUBUSKIE', 'ogółem', '2007', '334479018.68', 'zł'], ['800000', 'LUBUSKIE', 'ogółem', '2008', '340059853.25', 'zł'], ['800000', 'LUBUSKIE', 'ogółem', '2009', '777352763.08', 'zł'], ['800000', 'LUBUSKIE', 'ogółem', '2010', '513350113.35', 'zł'], ['800000', 'LUBUSKIE', 'ogółem', '2011', '502206634.5', 'zł'], ['800000', 'LUBUSKIE', 'ogółem', '2012', '446772814.33', 'zł'], ['800000', 'LUBUSKIE', 'ogółem', '2013', '578337377.11', 'zł'], ['800000', 'LUBUSKIE', 'ogółem', '2014', '525217198.18', 'zł'], ['800000', 'LUBUSKIE', 'ogółem', '2015', '491401397.61', 'zł'], ['800000', 'LUBUSKIE', 'ogółem', '2016', '386418000.68', 'zł'], ['800000', 'LUBUSKIE', 'ogółem', '2017', '477110881.38', 'zł'], ['800000', 'LUBUSKIE', 'ogółem', '2018', '452688569.49', 'zł'], ['800000', 'LUBUSKIE', 'ogółem', '2019', '525102857.87', 'zł'], ['800000', 'LUBUSKIE', 'ogółem', '2020', '622710927.28', 'zł'], ['1000000', 'ŁÓDZKIE', 'ogółem', '1999', '144237016.0', 'zł'], ['1000000', 'ŁÓDZKIE', 'ogółem', '2000', '167458977.0', 'zł'], ['1000000', 'ŁÓDZKIE', 'ogółem', '2001', '228622669.0', 'zł'], ['1000000', 'ŁÓDZKIE', 'ogółem', '2002', '223364522.0', 'zł'], ['1000000', 'ŁÓDZKIE', 'ogółem', '2003', '238002066.0', 'zł'], ['1000000', 'ŁÓDZKIE', 'ogółem', '2004', '262075095.0', 'zł'], ['1000000', 'ŁÓDZKIE', 'ogółem', '2005', '321538368.0', 'zł'], ['1000000', 'ŁÓDZKIE', 'ogółem', '2006', '387885905.82', 'zł'], ['1000000', 'ŁÓDZKIE', 'ogółem', '2007', '559583296.56', 'zł'], ['1000000', 'ŁÓDZKIE', 'ogółem', '2008', '664259917.26', 'zł'], ['1000000', 'ŁÓDZKIE', 'ogółem', '2009', '1425346768.54', 'zł'], ['1000000', 'ŁÓDZKIE', 'ogółem', '2010', '863166196.5', 'zł'], ['1000000', 'ŁÓDZKIE', 'ogółem', '2011', '956705478.1', 'zł'], ['1000000', 'ŁÓDZKIE', 'ogółem', '2012', '902857399.16', 'zł'], ['1000000', 'ŁÓDZKIE', 'ogółem', '2013', '753345831.83', 'zł'], ['1000000', 'ŁÓDZKIE', 'ogółem', '2014', '729871680.59', 'zł'], ['1000000', 'ŁÓDZKIE', 'ogółem', '2015', '749749703.63', 'zł'], ['1000000', 'ŁÓDZKIE', 'ogółem', '2016', '646370328.69', 'zł'], ['1000000', 'ŁÓDZKIE', 'ogółem', '2017', '646076137.29', 'zł'], ['1000000', 'ŁÓDZKIE', 'ogółem', '2018', '803469056.16', 'zł'], ['1000000', 'ŁÓDZKIE', 'ogółem', '2019', '956883136.86', 'zł'], ['1000000', 'ŁÓDZKIE', 'ogółem', '2020', '1034426778.79', 'zł'], ['1200000', 'MAŁOPOLSKIE', 'ogółem', '1999', '261294576.0', 'zł'], ['1200000', 'MAŁOPOLSKIE', 'ogółem', '2000', '277753101.0', 'zł'], ['1200000', 'MAŁOPOLSKIE', 'ogółem', '2001', '351978928.0', 'zł'], ['1200000', 'MAŁOPOLSKIE', 'ogółem', '2002', '365224273.0', 'zł'], ['1200000', 'MAŁOPOLSKIE', 'ogółem', '2003', '382772822.0', 'zł'], ['1200000', 'MAŁOPOLSKIE', 'ogółem', '2004', '423666507.0', 'zł'], ['1200000', 'MAŁOPOLSKIE', 'ogółem', '2005', '534257051.0', 'zł'], ['1200000', 'MAŁOPOLSKIE', 'ogółem', '2006', '628366032.19', 'zł'], ['1200000', 'MAŁOPOLSKIE', 'ogółem', '2007', '726192723.49', 'zł'], ['1200000', 'MAŁOPOLSKIE', 'ogółem', '2008', '923339420.95', 'zł'], ['1200000', 'MAŁOPOLSKIE', 'ogółem', '2009', '1498463061.58', 'zł'], ['1200000', 'MAŁOPOLSKIE', 'ogółem', '2010', '1198798327.68', 'zł'], ['1200000', 'MAŁOPOLSKIE', 'ogółem', '2011', '1404467136.44', 'zł'], ['1200000', 'MAŁOPOLSKIE', 'ogółem', '2012', '1142896203.83', 'zł'], ['1200000', 'MAŁOPOLSKIE', 'ogółem', '2013', '1107321791.49', 'zł'], ['1200000', 'MAŁOPOLSKIE', 'ogółem', '2014', '1216102959.96', 'zł'], ['1200000', 'MAŁOPOLSKIE', 'ogółem', '2015', '1107819878.84', 'zł'], ['1200000', 'MAŁOPOLSKIE', 'ogółem', '2016', '1114940473.27', 'zł'], ['1200000', 'MAŁOPOLSKIE', 'ogółem', '2017', '1294780085.69', 'zł'], ['1200000', 'MAŁOPOLSKIE', 'ogółem', '2018', '1312987243.78', 'zł'], ['1200000', 'MAŁOPOLSKIE', 'ogółem', '2019', '1333766277.26', 'zł'], ['1200000', 'MAŁOPOLSKIE', 'ogółem', '2020', '2011142672.3', 'zł'], ['1400000', 'MAZOWIECKIE', 'ogółem', '1999', '367310314.0', 'zł'], ['1400000', 'MAZOWIECKIE', 'ogółem', '2000', '406550805.0', 'zł'], ['1400000', 'MAZOWIECKIE', 'ogółem', '2001', '578504742.0', 'zł'], ['1400000', 'MAZOWIECKIE', 'ogółem', '2002', '494282790.0', 'zł'], ['1400000', 'MAZOWIECKIE', 'ogółem', '2003', '517194514.0', 'zł'], ['1400000', 'MAZOWIECKIE', 'ogółem', '2004', '1077977856.0', 'zł'], ['1400000', 'MAZOWIECKIE', 'ogółem', '2005', '1697348527.0', 'zł'], ['1400000', 'MAZOWIECKIE', 'ogółem', '2006', '2361797365.33', 'zł'], ['1400000', 'MAZOWIECKIE', 'ogółem', '2007', '2728325009.13', 'zł'], ['1400000', 'MAZOWIECKIE', 'ogółem', '2008', '3079249722.19', 'zł'], ['1400000', 'MAZOWIECKIE', 'ogółem', '2009', '3244292083.6', 'zł'], ['1400000', 'MAZOWIECKIE', 'ogółem', '2010', '2508560153.84', 'zł'], ['1400000', 'MAZOWIECKIE', 'ogółem', '2011', '2595390433.85', 'zł'], ['1400000', 'MAZOWIECKIE', 'ogółem', '2012', '2462870463.45', 'zł'], ['1400000', 'MAZOWIECKIE', 'ogółem', '2013', '2191571206.03', 'zł'], ['1400000', 'MAZOWIECKIE', 'ogółem', '2014', '2506820840.56', 'zł'], ['1400000', 'MAZOWIECKIE', 'ogółem', '2015', '2593362007.57', 'zł'], ['1400000', 'MAZOWIECKIE', 'ogółem', '2016', '2247494439.94', 'zł'], ['1400000', 'MAZOWIECKIE', 'ogółem', '2017', '2299038650.67', 'zł'], ['1400000', 'MAZOWIECKIE', 'ogółem', '2018', '2638593926.86', 'zł'], ['1400000', 'MAZOWIECKIE', 'ogółem', '2019', '3227493805.44', 'zł'], ['1400000', 'MAZOWIECKIE', 'ogółem', '2020', '3318269224.02', 'zł'], ['1600000', 'OPOLSKIE', 'ogółem', '1999', '92951231.0', 'zł'], ['1600000', 'OPOLSKIE', 'ogółem', '2000', '93794230.0', 'zł'], ['1600000', 'OPOLSKIE', 'ogółem', '2001', '130175374.0', 'zł'], ['1600000', 'OPOLSKIE', 'ogółem', '2002', '112697464.0', 'zł'], ['1600000', 'OPOLSKIE', 'ogółem', '2003', '135992868.0', 'zł'], ['1600000', 'OPOLSKIE', 'ogółem', '2004', '157776638.0', 'zł'], ['1600000', 'OPOLSKIE', 'ogółem', '2005', '243373794.0', 'zł'], ['1600000', 'OPOLSKIE', 'ogółem', '2006', '311497845.91', 'zł'], ['1600000', 'OPOLSKIE', 'ogółem', '2007', '345984924.88', 'zł'], ['1600000', 'OPOLSKIE', 'ogółem', '2008', '371920722.19', 'zł'], ['1600000', 'OPOLSKIE', 'ogółem', '2009', '692197631.39', 'zł'], ['1600000', 'OPOLSKIE', 'ogółem', '2010', '554954864.03', 'zł'], ['1600000', 'OPOLSKIE', 'ogółem', '2011', '484323102.53', 'zł'], ['1600000', 'OPOLSKIE', 'ogółem', '2012', '412104600.52', 'zł'], ['1600000', 'OPOLSKIE', 'ogółem', '2013', '443150143.75', 'zł'], ['1600000', 'OPOLSKIE', 'ogółem', '2014', '471970893.22', 'zł'], ['1600000', 'OPOLSKIE', 'ogółem', '2015', '391509139.71', 'zł'], ['1600000', 'OPOLSKIE', 'ogółem', '2016', '458349902.64', 'zł'], ['1600000', 'OPOLSKIE', 'ogółem', '2017', '447298406.23', 'zł'], ['1600000', 'OPOLSKIE', 'ogółem', '2018', '497870527.35', 'zł'], ['1600000', 'OPOLSKIE', 'ogółem', '2019', '510221870.4', 'zł'], ['1600000', 'OPOLSKIE', 'ogółem', '2020', '546951403.3', 'zł'], ['1800000', 'PODKARPACKIE', 'ogółem', '1999', '218955840.0', 'zł'], ['1800000', 'PODKARPACKIE', 'ogółem', '2000', '201019204.0', 'zł'], ['1800000', 'PODKARPACKIE', 'ogółem', '2001', '277097501.0', 'zł'], ['1800000', 'PODKARPACKIE', 'ogółem', '2002', '242044572.0', 'zł'], ['1800000', 'PODKARPACKIE', 'ogółem', '2003', '285722634.0', 'zł'], ['1800000', 'PODKARPACKIE', 'ogółem', '2004', '319905049.0', 'zł'], ['1800000', 'PODKARPACKIE', 'ogółem', '2005', '314160728.0', 'zł'], ['1800000', 'PODKARPACKIE', 'ogółem', '2006', '548511911.96', 'zł'], ['1800000', 'PODKARPACKIE', 'ogółem', '2007', '513451380.18', 'zł'], ['1800000', 'PODKARPACKIE', 'ogółem', '2008', '646018737.58', 'zł'], ['1800000', 'PODKARPACKIE', 'ogółem', '2009', '1150085147.13', 'zł'], ['1800000', 'PODKARPACKIE', 'ogółem', '2010', '979695587.12', 'zł'], ['1800000', 'PODKARPACKIE', 'ogółem', '2011', '962474821.1', 'zł'], ['1800000', 'PODKARPACKIE', 'ogółem', '2012', '891000574.02', 'zł'], ['1800000', 'PODKARPACKIE', 'ogółem', '2013', '1112201295.51', 'zł'], ['1800000', 'PODKARPACKIE', 'ogółem', '2014', '1258740343.68', 'zł'], ['1800000', 'PODKARPACKIE', 'ogółem', '2015', '1326488116.14', 'zł'], ['1800000', 'PODKARPACKIE', 'ogółem', '2016', '614129253.87', 'zł'], ['1800000', 'PODKARPACKIE', 'ogółem', '2017', '916595934.89', 'zł'], ['1800000', 'PODKARPACKIE', 'ogółem', '2018', '1143048893.37', 'zł'], ['1800000', 'PODKARPACKIE', 'ogółem', '2019', '1056835285.47', 'zł'], ['1800000', 'PODKARPACKIE', 'ogółem', '2020', '1203294888.75', 'zł'], ['2000000', 'PODLASKIE', 'ogółem', '1999', '113595697.0', 'zł'], ['2000000', 'PODLASKIE', 'ogółem', '2000', '122459776.0', 'zł'], ['2000000', 'PODLASKIE', 'ogółem', '2001', '162663862.0', 'zł'], ['2000000', 'PODLASKIE', 'ogółem', '2002', '146791215.0', 'zł'], ['2000000', 'PODLASKIE', 'ogółem', '2003', '143631783.0', 'zł'], ['2000000', 'PODLASKIE', 'ogółem', '2004', '171148322.0', 'zł'], ['2000000', 'PODLASKIE', 'ogółem', '2005', '182786183.0', 'zł'], ['2000000', 'PODLASKIE', 'ogółem', '2006', '288271335.73', 'zł'], ['2000000', 'PODLASKIE', 'ogółem', '2007', '304951502.93', 'zł'], ['2000000', 'PODLASKIE', 'ogółem', '2008', '334514182.9', 'zł'], ['2000000', 'PODLASKIE', 'ogółem', '2009', '616425203.03', 'zł'], ['2000000', 'PODLASKIE', 'ogółem', '2010', '411679824.08', 'zł'], ['2000000', 'PODLASKIE', 'ogółem', '2011', '518224968.53', 'zł'], ['2000000', 'PODLASKIE', 'ogółem', '2012', '492154194.84', 'zł'], ['2000000', 'PODLASKIE', 'ogółem', '2013', '560981335.52', 'zł'], ['2000000', 'PODLASKIE', 'ogółem', '2014', '743955159.75', 'zł'], ['2000000', 'PODLASKIE', 'ogółem', '2015', '930695425.9', 'zł'], ['2000000', 'PODLASKIE', 'ogółem', '2016', '374086809.12', 'zł'], ['2000000', 'PODLASKIE', 'ogółem', '2017', '521395229.38', 'zł'], ['2000000', 'PODLASKIE', 'ogółem', '2018', '794872463.96', 'zł'], ['2000000', 'PODLASKIE', 'ogółem', '2019', '986670965.37', 'zł'], ['2000000', 'PODLASKIE', 'ogółem', '2020', '861047616.12', 'zł'], ['2200000', 'POMORSKIE', 'ogółem', '1999', '128007386.0', 'zł'], ['2200000', 'POMORSKIE', 'ogółem', '2000', '212462966.0', 'zł'], ['2200000', 'POMORSKIE', 'ogółem', '2001', '273294162.0', 'zł'], ['2200000', 'POMORSKIE', 'ogółem', '2002', '249849178.0', 'zł'], ['2200000', 'POMORSKIE', 'ogółem', '2003', '284042188.0', 'zł'], ['2200000', 'POMORSKIE', 'ogółem', '2004', '315886223.0', 'zł'], ['2200000', 'POMORSKIE', 'ogółem', '2005', '442691538.0', 'zł'], ['2200000', 'POMORSKIE', 'ogółem', '2006', '558280632.94', 'zł'], ['2200000', 'POMORSKIE', 'ogółem', '2007', '597775534.03', 'zł'], ['2200000', 'POMORSKIE', 'ogółem', '2008', '712235165.04', 'zł'], ['2200000', 'POMORSKIE', 'ogółem', '2009', '1276652154.31', 'zł'], ['2200000', 'POMORSKIE', 'ogółem', '2010', '872008677.16', 'zł'], ['2200000', 'POMORSKIE', 'ogółem', '2011', '954082774.69', 'zł'], ['2200000', 'POMORSKIE', 'ogółem', '2012', '919848258.15', 'zł'], ['2200000', 'POMORSKIE', 'ogółem', '2013', '830645601.9', 'zł'], ['2200000', 'POMORSKIE', 'ogółem', '2014', '818766991.2', 'zł'], ['2200000', 'POMORSKIE', 'ogółem', '2015', '802190478.09', 'zł'], ['2200000', 'POMORSKIE', 'ogółem', '2016', '706152131.81', 'zł'], ['2200000', 'POMORSKIE', 'ogółem', '2017', '835004871.79', 'zł'], ['2200000', 'POMORSKIE', 'ogółem', '2018', '1045300682.75', 'zł'], ['2200000', 'POMORSKIE', 'ogółem', '2019', '1317668068.82', 'zł'], ['2200000', 'POMORSKIE', 'ogółem', '2020', '1062717321.26', 'zł'], ['2400000', 'ŚLĄSKIE', 'ogółem', '1999', '512884285.0', 'zł'], ['2400000', 'ŚLĄSKIE', 'ogółem', '2000', '608868288.0', 'zł'], ['2400000', 'ŚLĄSKIE', 'ogółem', '2001', '633400326.0', 'zł'], ['2400000', 'ŚLĄSKIE', 'ogółem', '2002', '605070887.0', 'zł'], ['2400000', 'ŚLĄSKIE', 'ogółem', '2003', '625576612.0', 'zł'], ['2400000', 'ŚLĄSKIE', 'ogółem', '2004', '788590235.0', 'zł'], ['2400000', 'ŚLĄSKIE', 'ogółem', '2005', '931418874.0', 'zł'], ['2400000', 'ŚLĄSKIE', 'ogółem', '2006', '1039986942.9', 'zł'], ['2400000', 'ŚLĄSKIE', 'ogółem', '2007', '992706427.59', 'zł'], ['2400000', 'ŚLĄSKIE', 'ogółem', '2008', '1263238190.05', 'zł'], ['2400000', 'ŚLĄSKIE', 'ogółem', '2009', '1729354997.68', 'zł'], ['2400000', 'ŚLĄSKIE', 'ogółem', '2010', '1410033976.05', 'zł'], ['2400000', 'ŚLĄSKIE', 'ogółem', '2011', '1456304723.95', 'zł'], ['2400000', 'ŚLĄSKIE', 'ogółem', '2012', '1469289966.01', 'zł'], ['2400000', 'ŚLĄSKIE', 'ogółem', '2013', '1705527409.44', 'zł'], ['2400000', 'ŚLĄSKIE', 'ogółem', '2014', '1772241918.01', 'zł'], ['2400000', 'ŚLĄSKIE', 'ogółem', '2015', '1791730265.45', 'zł'], ['2400000', 'ŚLĄSKIE', 'ogółem', '2016', '1206728647.44', 'zł'], ['2400000', 'ŚLĄSKIE', 'ogółem', '2017', '1227119328.59', 'zł'], ['2400000', 'ŚLĄSKIE', 'ogółem', '2018', '1453120887.28', 'zł'], ['2400000', 'ŚLĄSKIE', 'ogółem', '2019', '1493579817.19', 'zł'], ['2400000', 'ŚLĄSKIE', 'ogółem', '2020', '1933101760.19', 'zł'], ['2600000', 'ŚWIĘTOKRZYSKIE', 'ogółem', '1999', '128528670.0', 'zł'], ['2600000', 'ŚWIĘTOKRZYSKIE', 'ogółem', '2000', '188966995.0', 'zł'], ['2600000', 'ŚWIĘTOKRZYSKIE', 'ogółem', '2001', '198551724.0', 'zł'], ['2600000', 'ŚWIĘTOKRZYSKIE', 'ogółem', '2002', '162134613.0', 'zł'], ['2600000', 'ŚWIĘTOKRZYSKIE', 'ogółem', '2003', '172603137.0', 'zł'], ['2600000', 'ŚWIĘTOKRZYSKIE', 'ogółem', '2004', '179871339.0', 'zł'], ['2600000', 'ŚWIĘTOKRZYSKIE', 'ogółem', '2005', '171647698.0', 'zł'], ['2600000', 'ŚWIĘTOKRZYSKIE', 'ogółem', '2006', '256106700.64', 'zł'], ['2600000', 'ŚWIĘTOKRZYSKIE', 'ogółem', '2007', '312507941.5', 'zł'], ['2600000', 'ŚWIĘTOKRZYSKIE', 'ogółem', '2008', '374074677.24', 'zł'], ['2600000', 'ŚWIĘTOKRZYSKIE', 'ogółem', '2009', '754335148.66', 'zł'], ['2600000', 'ŚWIĘTOKRZYSKIE', 'ogółem', '2010', '560902503.14', 'zł'], ['2600000', 'ŚWIĘTOKRZYSKIE', 'ogółem', '2011', '529607027.79', 'zł'], ['2600000', 'ŚWIĘTOKRZYSKIE', 'ogółem', '2012', '688317235.62', 'zł'], ['2600000', 'ŚWIĘTOKRZYSKIE', 'ogółem', '2013', '734330793.32', 'zł'], ['2600000', 'ŚWIĘTOKRZYSKIE', 'ogółem', '2014', '622754062.83', 'zł'], ['2600000', 'ŚWIĘTOKRZYSKIE', 'ogółem', '2015', '689683084.63', 'zł'], ['2600000', 'ŚWIĘTOKRZYSKIE', 'ogółem', '2016', '384163659.17', 'zł'], ['2600000', 'ŚWIĘTOKRZYSKIE', 'ogółem', '2017', '484238151.82', 'zł'], ['2600000', 'ŚWIĘTOKRZYSKIE', 'ogółem', '2018', '702670177.59', 'zł'], ['2600000', 'ŚWIĘTOKRZYSKIE', 'ogółem', '2019', '685882894.89', 'zł'], ['2600000', 'ŚWIĘTOKRZYSKIE', 'ogółem', '2020', '593948498.78', 'zł'], ['2800000', 'WARMIŃSKO-MAZURSKIE', 'ogółem', '1999', '103130944.0', 'zł'], ['2800000', 'WARMIŃSKO-MAZURSKIE', 'ogółem', '2000', '137065237.0', 'zł'], ['2800000', 'WARMIŃSKO-MAZURSKIE', 'ogółem', '2001', '176731493.0', 'zł'], ['2800000', 'WARMIŃSKO-MAZURSKIE', 'ogółem', '2002', '168300728.0', 'zł'], ['2800000', 'WARMIŃSKO-MAZURSKIE', 'ogółem', '2003', '225101634.0', 'zł'], ['2800000', 'WARMIŃSKO-MAZURSKIE', 'ogółem', '2004', '256252208.0', 'zł'], ['2800000', 'WARMIŃSKO-MAZURSKIE', 'ogółem', '2005', '291069608.0', 'zł'], ['2800000', 'WARMIŃSKO-MAZURSKIE', 'ogółem', '2006', '379222519.45', 'zł'], ['2800000', 'WARMIŃSKO-MAZURSKIE', 'ogółem', '2007', '440382704.04', 'zł'], ['2800000', 'WARMIŃSKO-MAZURSKIE', 'ogółem', '2008', '449534924.36', 'zł'], ['2800000', 'WARMIŃSKO-MAZURSKIE', 'ogółem', '2009', '811125580.33', 'zł'], ['2800000', 'WARMIŃSKO-MAZURSKIE', 'ogółem', '2010', '541412169.73', 'zł'], ['2800000', 'WARMIŃSKO-MAZURSKIE', 'ogółem', '2011', '580450383.35', 'zł'], ['2800000', 'WARMIŃSKO-MAZURSKIE', 'ogółem', '2012', '679455755.81', 'zł'], ['2800000', 'WARMIŃSKO-MAZURSKIE', 'ogółem', '2013', '923924611.16', 'zł'], ['2800000', 'WARMIŃSKO-MAZURSKIE', 'ogółem', '2014', '1199927479.52', 'zł'], ['2800000', 'WARMIŃSKO-MAZURSKIE', 'ogółem', '2015', '949011837.86', 'zł'], ['2800000', 'WARMIŃSKO-MAZURSKIE', 'ogółem', '2016', '460628312.42', 'zł'], ['2800000', 'WARMIŃSKO-MAZURSKIE', 'ogółem', '2017', '521783115.36', 'zł'], ['2800000', 'WARMIŃSKO-MAZURSKIE', 'ogółem', '2018', '612735912.62', 'zł'], ['2800000', 'WARMIŃSKO-MAZURSKIE', 'ogółem', '2019', '673591791.81', 'zł'], ['2800000', 'WARMIŃSKO-MAZURSKIE', 'ogółem', '2020', '840352513.96', 'zł'], ['3000000', 'WIELKOPOLSKIE', 'ogółem', '1999', '229729246.0', 'zł'], ['3000000', 'WIELKOPOLSKIE', 'ogółem', '2000', '269988733.0', 'zł'], ['3000000', 'WIELKOPOLSKIE', 'ogółem', '2001', '413700877.0', 'zł'], ['3000000', 'WIELKOPOLSKIE', 'ogółem', '2002', '389368456.0', 'zł'], ['3000000', 'WIELKOPOLSKIE', 'ogółem', '2003', '399883631.0', 'zł'], ['3000000', 'WIELKOPOLSKIE', 'ogółem', '2004', '444919877.0', 'zł'], ['3000000', 'WIELKOPOLSKIE', 'ogółem', '2005', '583554336.0', 'zł'], ['3000000', 'WIELKOPOLSKIE', 'ogółem', '2006', '767480155.2', 'zł'], ['3000000', 'WIELKOPOLSKIE', 'ogółem', '2007', '791338060.23', 'zł'], ['3000000', 'WIELKOPOLSKIE', 'ogółem', '2008', '962739129.03', 'zł'], ['3000000', 'WIELKOPOLSKIE', 'ogółem', '2009', '1882476263.72', 'zł'], ['3000000', 'WIELKOPOLSKIE', 'ogółem', '2010', '1122915345.76', 'zł'], ['3000000', 'WIELKOPOLSKIE', 'ogółem', '2011', '1353135095.22', 'zł'], ['3000000', 'WIELKOPOLSKIE', 'ogółem', '2012', '1136102163.63', 'zł'], ['3000000', 'WIELKOPOLSKIE', 'ogółem', '2013', '1385736916.88', 'zł'], ['3000000', 'WIELKOPOLSKIE', 'ogółem', '2014', '1226916528.72', 'zł'], ['3000000', 'WIELKOPOLSKIE', 'ogółem', '2015', '1040152157.64', 'zł'], ['3000000', 'WIELKOPOLSKIE', 'ogółem', '2016', '951545844.61', 'zł'], ['3000000', 'WIELKOPOLSKIE', 'ogółem', '2017', '1173187518.44', 'zł'], ['3000000', 'WIELKOPOLSKIE', 'ogółem', '2018', '1270477554.41', 'zł'], ['3000000', 'WIELKOPOLSKIE', 'ogółem', '2019', '1577343407.27', 'zł'], ['3000000', 'WIELKOPOLSKIE', 'ogółem', '2020', '1640704247.45', 'zł'], ['3200000', 'ZACHODNIOPOMORSKIE', 'ogółem', '1999', '144092971.0', 'zł'], ['3200000', 'ZACHODNIOPOMORSKIE', 'ogółem', '2000', '174515011.0', 'zł'], ['3200000', 'ZACHODNIOPOMORSKIE', 'ogółem', '2001', '229262270.0', 'zł'], ['3200000', 'ZACHODNIOPOMORSKIE', 'ogółem', '2002', '200703259.0', 'zł'], ['3200000', 'ZACHODNIOPOMORSKIE', 'ogółem', '2003', '210357400.0', 'zł'], ['3200000', 'ZACHODNIOPOMORSKIE', 'ogółem', '2004', '234995562.0', 'zł'], ['3200000', 'ZACHODNIOPOMORSKIE', 'ogółem', '2005', '328317059.0', 'zł'], ['3200000', 'ZACHODNIOPOMORSKIE', 'ogółem', '2006', '376071241.03', 'zł'], ['3200000', 'ZACHODNIOPOMORSKIE', 'ogółem', '2007', '452163495.6', 'zł'], ['3200000', 'ZACHODNIOPOMORSKIE', 'ogółem', '2008', '536042556.84', 'zł'], ['3200000', 'ZACHODNIOPOMORSKIE', 'ogółem', '2009', '1091426732.59', 'zł'], ['3200000', 'ZACHODNIOPOMORSKIE', 'ogółem', '2010', '786125201.53', 'zł'], ['3200000', 'ZACHODNIOPOMORSKIE', 'ogółem', '2011', '852510112.78', 'zł'], ['3200000', 'ZACHODNIOPOMORSKIE', 'ogółem', '2012', '822675555.2', 'zł'], ['3200000', 'ZACHODNIOPOMORSKIE', 'ogółem', '2013', '829580393.55', 'zł'], ['3200000', 'ZACHODNIOPOMORSKIE', 'ogółem', '2014', '870661430.05', 'zł'], ['3200000', 'ZACHODNIOPOMORSKIE', 'ogółem', '2015', '738580279.92', 'zł'], ['3200000', 'ZACHODNIOPOMORSKIE', 'ogółem', '2016', '576750021.41', 'zł'], ['3200000', 'ZACHODNIOPOMORSKIE', 'ogółem', '2017', '805951761.32', 'zł'], ['3200000', 'ZACHODNIOPOMORSKIE', 'ogółem', '2018', '952068914.82', 'zł'], ['3200000', 'ZACHODNIOPOMORSKIE', 'ogółem', '2019', '787087388.44', 'zł'], ['3200000', 'ZACHODNIOPOMORSKIE', 'ogółem', '2020', '964075527.72', 'zł']]\n"
     ]
    }
   ],
   "source": [
    "# TUTAJ UMIESC SWOJ KOD\n",
    "print(columns)\n",
    "print(data)\n",
    "pass"
   ]
  },
  {
   "cell_type": "markdown",
   "id": "2d74fa9e",
   "metadata": {},
   "source": [
    "#### Zadanie 3\n",
    "\n",
    "Wyświetl tylko dane z roku 2008.\n"
   ]
  },
  {
   "cell_type": "code",
   "execution_count": 3,
   "id": "0f75b74d",
   "metadata": {},
   "outputs": [
    {
     "data": {
      "text/plain": [
       "[['0', 'POLSKA', 'ogółem', '2008', '13002732460.09', 'zł'],\n",
       " ['200000', 'DOLNOŚLĄSKIE', 'ogółem', '2008', '1006184128.91', 'zł'],\n",
       " ['400000', 'KUJAWSKO-POMORSKIE', 'ogółem', '2008', '640715844.5', 'zł'],\n",
       " ['600000', 'LUBELSKIE', 'ogółem', '2008', '698605287.8', 'zł'],\n",
       " ['800000', 'LUBUSKIE', 'ogółem', '2008', '340059853.25', 'zł'],\n",
       " ['1000000', 'ŁÓDZKIE', 'ogółem', '2008', '664259917.26', 'zł'],\n",
       " ['1200000', 'MAŁOPOLSKIE', 'ogółem', '2008', '923339420.95', 'zł'],\n",
       " ['1400000', 'MAZOWIECKIE', 'ogółem', '2008', '3079249722.19', 'zł'],\n",
       " ['1600000', 'OPOLSKIE', 'ogółem', '2008', '371920722.19', 'zł'],\n",
       " ['1800000', 'PODKARPACKIE', 'ogółem', '2008', '646018737.58', 'zł'],\n",
       " ['2000000', 'PODLASKIE', 'ogółem', '2008', '334514182.9', 'zł'],\n",
       " ['2200000', 'POMORSKIE', 'ogółem', '2008', '712235165.04', 'zł'],\n",
       " ['2400000', 'ŚLĄSKIE', 'ogółem', '2008', '1263238190.05', 'zł'],\n",
       " ['2600000', 'ŚWIĘTOKRZYSKIE', 'ogółem', '2008', '374074677.24', 'zł'],\n",
       " ['2800000', 'WARMIŃSKO-MAZURSKIE', 'ogółem', '2008', '449534924.36', 'zł'],\n",
       " ['3000000', 'WIELKOPOLSKIE', 'ogółem', '2008', '962739129.03', 'zł'],\n",
       " ['3200000', 'ZACHODNIOPOMORSKIE', 'ogółem', '2008', '536042556.84', 'zł']]"
      ]
     },
     "execution_count": 3,
     "metadata": {},
     "output_type": "execute_result"
    }
   ],
   "source": [
    "# TUTAJ UMIESC SWOJ KOD\n",
    "# data_from_2008 = []\n",
    "# for element in data:\n",
    "#     if element[3] == '2008':\n",
    "#         data_from_2008.append(element)\n",
    "\n",
    "# def fun(row):\n",
    "#     return row[3] == '2008'\n",
    "\n",
    "# l = list(filter(fun, data))\n",
    "# l\n",
    "import pandas as pd\n",
    "data_pd = pd.DataFrame(data)\n",
    "data_from_2008 = data_pd[data_pd[3] == '2008'].values.tolist()\n",
    "data_from_2008"
   ]
  },
  {
   "cell_type": "markdown",
   "id": "98078a91",
   "metadata": {},
   "source": [
    "#### Zadanie 4\n",
    "\n",
    "Wyświetl wykres uwzględniając 10 województw (bez sumarycznego dla całego kraju), w których wydatki budżetów były największe w roku 2008.\n",
    "\n",
    "> Podpowiedź: Możesz w tym celu wykorzystać moduł matplotlib.pyplot. Przykład:\n",
    "```python\n",
    "import matplotlib.pyplot as plt\n",
    "plt.bar([1, 2, 3], [5, 2, 4])\n",
    "```\n",
    "\n",
    "> Podpowiedź 2: Sprawdź inne funkcje aby utworzyć tytuł wykresu, oznaczyć osie, wyświetlić legendę i zmienić kolory słupków. https://matplotlib.org/stable/tutorials/introductory/pyplot.html"
   ]
  },
  {
   "cell_type": "code",
   "execution_count": 4,
   "id": "44b0bcb4",
   "metadata": {},
   "outputs": [
    {
     "data": {
      "text/plain": [
       "<BarContainer object of 10 artists>"
      ]
     },
     "execution_count": 4,
     "metadata": {},
     "output_type": "execute_result"
    },
    {
     "data": {
      "image/png": "[encoded data removed]",
      "text/plain": [
       "<Figure size 640x480 with 1 Axes>"
      ]
     },
     "metadata": {},
     "output_type": "display_data"
    }
   ],
   "source": [
    "# TUTAJ UMIESC SWOJ KOD\n",
    "import matplotlib.pyplot as plt\n",
    "\n",
    "data_from_2008 = [row for row in data_from_2008 if 'POLSKA' not in row]\n",
    "data_from_2008 = [row[:4] + [float(row[4])] + row[5:] for row in data_from_2008]\n",
    "data_from_2008 = sorted(data_from_2008, key=lambda x: x[4], reverse=True)\n",
    "# print(data_from_2008)\n",
    "voivodships = [row[1] for row in data_from_2008[:10]]\n",
    "expenses = [row[4] for row in data_from_2008[:10]]\n",
    "\n",
    "plt.title(\"Wydatki\")\n",
    "plt.ylabel(\"Wydatek w mld złotych\")\n",
    "plt.xticks(rotation=90)\n",
    "plt.yticks([0, 500000000, 1000000000, 1500000000, 2000000000, 2500000000, 3000000000], labels=['0', '0.5', '1.0', '1.5', '2.0', '2.5', '3.0'])\n",
    "plt.bar(voivodships, expenses)"
   ]
  },
  {
   "cell_type": "markdown",
   "id": "2148774e",
   "metadata": {},
   "source": [
    "#### Zadanie 5\n",
    "\n",
    "Wczytaj dane z pliku `dane-ludnosc.npz`. Plik ten zawiera zbiór danych zawierający **liczbę ludnosci**.\n",
    "\n",
    "Oblicz wydatki z budżetu na mieszkańca dla każdego z województw (_uwzględnij dane z roku 2008_).\n"
   ]
  },
  {
   "cell_type": "code",
   "execution_count": 5,
   "id": "2ed3a2d6",
   "metadata": {},
   "outputs": [
    {
     "name": "stdout",
     "output_type": "stream",
     "text": [
      "Województwo ŚWIĘTOKRZYSKIE, koszt na mieszkańca: 293.90 zł\n",
      "Województwo ŚLĄSKIE, koszt na mieszkańca: 271.92 zł\n",
      "Województwo ŁÓDZKIE, koszt na mieszkańca: 260.61 zł\n",
      "Województwo ZACHODNIOPOMORSKIE, koszt na mieszkańca: 316.63 zł\n",
      "Województwo WIELKOPOLSKIE, koszt na mieszkańca: 283.36 zł\n",
      "Województwo WARMIŃSKO-MAZURSKIE, koszt na mieszkańca: 315.00 zł\n",
      "Województwo POMORSKIE, koszt na mieszkańca: 320.90 zł\n",
      "Województwo PODLASKIE, koszt na mieszkańca: 280.76 zł\n",
      "Województwo PODKARPACKIE, koszt na mieszkańca: 307.70 zł\n",
      "Województwo OPOLSKIE, koszt na mieszkańca: 360.03 zł\n",
      "Województwo MAŁOPOLSKIE, koszt na mieszkańca: 280.89 zł\n",
      "Województwo MAZOWIECKIE, koszt na mieszkańca: 591.65 zł\n",
      "Województwo LUBUSKIE, koszt na mieszkańca: 337.04 zł\n",
      "Województwo LUBELSKIE, koszt na mieszkańca: 323.15 zł\n",
      "Województwo KUJAWSKO-POMORSKIE, koszt na mieszkańca: 309.84 zł\n",
      "Województwo DOLNOŚLĄSKIE, koszt na mieszkańca: 349.73 zł\n"
     ]
    }
   ],
   "source": [
    "# TUTAJ UMIESC SWOJ KOD\n",
    "with open('./dataset/dane-ludnosc.npz', 'rb') as f:\n",
    "    content = np.load(f)\n",
    "    citizens_columns, citizens_data = content['columns'].tolist(), content['data'].tolist()\n",
    "\n",
    "citizens_data = pd.DataFrame(citizens_data)\n",
    "citizens_data_2008 = citizens_data[citizens_data[4] == '2008'].values.tolist()\n",
    "citizens_data_2008 = [row for row in citizens_data_2008 if 'POLSKA' not in row]\n",
    "citizens_data_2008 = sorted(citizens_data_2008, key=lambda x: x[1], reverse=True)\n",
    "\n",
    "data_from_2008 = sorted(data_from_2008, key=lambda x: x[1], reverse=True)\n",
    "data_from_2008, citizens_data_2008\n",
    "\n",
    "data_to_show = [row[1:2] + [row[4]] for row in data_from_2008]\n",
    "for index, row in enumerate(citizens_data_2008):\n",
    "    data_to_show[index].append(float(row[5]))\n",
    "    data_to_show[index].append(data_to_show[index][1] / data_to_show[index][2])\n",
    "\n",
    "for row in data_to_show:\n",
    "    print(f\"Województwo {row[0]}, koszt na mieszkańca: {row[-1]:.2f} zł\")"
   ]
  },
  {
   "cell_type": "markdown",
   "id": "53e771bb",
   "metadata": {},
   "source": [
    "#### Zadanie 6\n",
    "\n",
    "Które województwo odnotowało największy (oraz najmniejszy) wzrost wydatków z budżetu na mieszkańca pomiędzy rokiem 2002 a rokiem 2020?\n",
    "\n",
    "Oblicz współczynnik wydatków z budżetu na mieszkańca jako stosunek wartości z roku 2020 do wartości z roku 2002.\n",
    "\n",
    "$$\n",
    "wspolczynnik = \\frac{w_{2020}}{w_{2002}}\n",
    "$$\n",
    "\n",
    "gdzie $w_{2020}$ to wydatki z budżetu na mieszkańca w roku 2020, a $w_{2002}$ to wydatki z budżetu na mieszkańca w roku 2002.\n"
   ]
  },
  {
   "cell_type": "code",
   "execution_count": 6,
   "id": "c3e13f17",
   "metadata": {},
   "outputs": [
    {
     "name": "stdout",
     "output_type": "stream",
     "text": [
      "Województwo ŚWIĘTOKRZYSKIE, współczynik kosztów na rok 2020 do 2002 wynosi: 3.876\n",
      "Województwo ŚLĄSKIE, współczynik kosztów na rok 2020 do 2002 wynosi: 3.365\n",
      "Województwo ŁÓDZKIE, współczynik kosztów na rok 2020 do 2002 wynosi: 4.953\n",
      "Województwo ZACHODNIOPOMORSKIE, współczynik kosztów na rok 2020 do 2002 wynosi: 4.831\n",
      "Województwo WIELKOPOLSKIE, współczynik kosztów na rok 2020 do 2002 wynosi: 4.044\n",
      "Województwo WARMIŃSKO-MAZURSKIE, współczynik kosztów na rok 2020 do 2002 wynosi: 5.035\n",
      "Województwo POMORSKIE, współczynik kosztów na rok 2020 do 2002 wynosi: 3.958\n",
      "Województwo PODLASKIE, współczynik kosztów na rok 2020 do 2002 wynosi: 6.038\n",
      "Województwo PODKARPACKIE, współczynik kosztów na rok 2020 do 2002 wynosi: 4.933\n",
      "Województwo OPOLSKIE, współczynik kosztów na rok 2020 do 2002 wynosi: 5.272\n",
      "Województwo MAŁOPOLSKIE, współczynik kosztów na rok 2020 do 2002 wynosi: 5.227\n",
      "Województwo MAZOWIECKIE, współczynik kosztów na rok 2020 do 2002 wynosi: 6.347\n",
      "Województwo LUBUSKIE, współczynik kosztów na rok 2020 do 2002 wynosi: 3.621\n",
      "Województwo LUBELSKIE, współczynik kosztów na rok 2020 do 2002 wynosi: 3.891\n",
      "Województwo KUJAWSKO-POMORSKIE, współczynik kosztów na rok 2020 do 2002 wynosi: 4.361\n",
      "Województwo DOLNOŚLĄSKIE, współczynik kosztów na rok 2020 do 2002 wynosi: 3.477\n",
      "['ŚLĄSKIE', 3.3649505078828477]\n",
      "['MAZOWIECKIE', 6.34650930820147]\n"
     ]
    }
   ],
   "source": [
    "# TUTAJ UMIESC SWOJ KOD\n",
    "data = [row for row in data if 'POLSKA' not in row]\n",
    "data_pd = pd.DataFrame(data)\n",
    "data_2020 = data_pd[data_pd[3] == '2020'].values.tolist()\n",
    "data_2020 = sorted(data_2020, key=lambda x: x[1], reverse=True)\n",
    "\n",
    "data_2002 = data_pd[data_pd[3] == '2002'].values.tolist()\n",
    "data_2002 = sorted(data_2002, key=lambda x: x[1], reverse=True)\n",
    "\n",
    "citizens_data_2020 = citizens_data[citizens_data[4] == '2020'].values.tolist()\n",
    "citizens_data_2020 = [row for row in citizens_data_2020 if 'POLSKA' not in row]\n",
    "citizens_data_2020 = sorted(citizens_data_2020, key=lambda x: x[1], reverse=True)\n",
    "citizens_data_2002 = citizens_data[citizens_data[4] == '2002'].values.tolist()\n",
    "citizens_data_2002 = [row for row in citizens_data_2002 if 'POLSKA' not in row]\n",
    "citizens_data_2002 = sorted(citizens_data_2002, key=lambda x: x[1], reverse=True)\n",
    "\n",
    "ratio_2020 = [row[1:2] + [float(row[4])] for row in data_2020]\n",
    "for index, row in enumerate(citizens_data_2020):\n",
    "    ratio_2020[index].append(float(row[5]))\n",
    "    ratio_2020[index].append(ratio_2020[index][1] / ratio_2020[index][2])\n",
    "\n",
    "ratio_2002 = [row[1:2] + [float(row[4])] for row in data_2002]\n",
    "for index, row in enumerate(citizens_data_2002):\n",
    "    ratio_2002[index].append(float(row[5]))\n",
    "    ratio_2002[index].append(ratio_2002[index][1] / ratio_2002[index][2])\n",
    "\n",
    "highest_ratio = ['', 0]\n",
    "lowest_ratio = ['', float('inf')]\n",
    "for index, row in enumerate(ratio_2020):\n",
    "    ratio = row[-1] / ratio_2002[index][-1]\n",
    "    print(f\"Województwo {row[0]}, współczynik kosztów na rok 2020 do 2002 wynosi: {ratio:.3f}\")\n",
    "    if ratio > highest_ratio[1]:\n",
    "        highest_ratio[1] = ratio\n",
    "        highest_ratio[0] = row[0]\n",
    "    if ratio < lowest_ratio[1]:\n",
    "        lowest_ratio[1] = ratio\n",
    "        lowest_ratio[0] = row[0]\n",
    "\n",
    "print(lowest_ratio)\n",
    "print(highest_ratio) "
   ]
  },
  {
   "cell_type": "code",
   "execution_count": null,
   "id": "1352513c-5c75-463b-8d31-9f4ed32934ee",
   "metadata": {},
   "outputs": [],
   "source": []
  }
 ],
 "metadata": {
  "author": {
   "email": "robert.susik@p.lodz.pl",
   "name": "Robert Susik"
  },
  "kernelspec": {
   "display_name": "Python 3 (ipykernel)",
   "language": "python",
   "name": "python3"
  },
  "language_info": {
   "codemirror_mode": {
    "name": "ipython",
    "version": 3
   },
   "file_extension": ".py",
   "mimetype": "text/x-python",
   "name": "python",
   "nbconvert_exporter": "python",
   "pygments_lexer": "ipython3",
   "version": "3.8.20"
  },
  "toc": {
   "base_numbering": 1,
   "nav_menu": {},
   "number_sections": true,
   "sideBar": true,
   "skip_h1_title": false,
   "title_cell": "Table of Contents",
   "title_sidebar": "Contents",
   "toc_cell": false,
   "toc_position": {},
   "toc_section_display": true,
   "toc_window_display": false
  }
 },
 "nbformat": 4,
 "nbformat_minor": 5
}

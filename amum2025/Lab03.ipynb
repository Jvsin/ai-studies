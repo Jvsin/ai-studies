{
 "cells": [
  {
   "cell_type": "markdown",
   "id": "59b5dc28",
   "metadata": {},
   "source": [
    "# Algorytmika i matematyka uczenia maszynowego \n",
    "## Laboratorium 3\n",
    "\n",
    "## Zadanie 1\n",
    "\n",
    "Z wykorzystaniem anotacji napisz definicję pustej funkcji, która przyjmuje argumenty: \n",
    "1. lista zawierająca elementy o dopuszczalnych typach: `str` oraz `int`\n",
    "2. krotka zawierająca dwa elementy: ciąg znaków (`str`) oraz listę liczb całkowitych (`int`).\n",
    "\n",
    "Funkcja zwraca słownik, w którym klucze są ciągami znaków, a wartości liczbami całkowitymi.\n"
   ]
  },
  {
   "cell_type": "code",
   "execution_count": 6,
   "id": "0c2d1720",
   "metadata": {},
   "outputs": [],
   "source": [
    "from typing import List, Tuple, Dict, Union\n",
    "\n",
    "def function(t1: List[Union[str, int]], t2: Tuple[str, List[int]]) -> Dict[str, int]:\n",
    "    pass"
   ]
  },
  {
   "cell_type": "markdown",
   "id": "e20be70b",
   "metadata": {},
   "source": [
    "## Zadanie 2\n",
    "\n",
    "Do niżej zaimplentowanych funkcji napisz dodaj poprawne anotacje typów.\n",
    "\n",
    "\n",
    "> Wskazówka: Zastanów się, jakie typy danych mogą przyjmować argumenty i zwracać funkcje.\n",
    "\n",
    "```python\n",
    "def concatenate(a, b):\n",
    "    return a + b\n",
    "\n",
    "def divide(x, y):\n",
    "    return x / y\n",
    "\n",
    "def sqrt_data(data):\n",
    "    return {k: v * 2 for k, v in data.items()}\n",
    "```"
   ]
  },
  {
   "cell_type": "code",
   "execution_count": 7,
   "id": "adf73c67",
   "metadata": {},
   "outputs": [
    {
     "data": {
      "text/plain": [
       "3.09377223648795e-05"
      ]
     },
     "execution_count": 7,
     "metadata": {},
     "output_type": "execute_result"
    }
   ],
   "source": [
    "def concatenate(a: str, b: str) -> str:\n",
    "    return a + b\n",
    "\n",
    "def divide(x: float | int, y: float | int) -> float:\n",
    "    return x / y\n",
    "\n",
    "def sqrt_data(data: Dict[str, int]) -> Dict[str, int]:\n",
    "    return {k: v * 2 for k, v in data.items()}\n",
    "\n",
    "concatenate(1,1)\n",
    "divide(1,32323)"
   ]
  },
  {
   "cell_type": "markdown",
   "id": "b7bf0400",
   "metadata": {},
   "source": [
    "## Zadanie 3\n",
    "\n",
    "A) Zdefiniuj **alias** `Person`, który będzie reprezentował słownik z kluczami:\n",
    "* `name` – łańcuch znaków,\n",
    "* `age` – liczba całkowita,\n",
    "* `hobbies` – lista łańcuchów znaków.\n",
    "\n",
    "B) Napisz funkcję `get_adults`, która przyjmie listę osób (listę obiektów typu `Person`) i zwróci tylko te, które mają co najmniej 18 lat.\n",
    "\n",
    "> Wskazówka 1: Aby zdefiniować alias, musisz utworzyć nową klasę dziedziczącą po `TypedDict` z anotacjami typów.\n",
    "\n",
    "> Wskazówka 2: `TypedDict` należy zaimportować z modułu `typing`, w następujący sposób: `from typing import TypedDict`."
   ]
  },
  {
   "cell_type": "code",
   "execution_count": 12,
   "id": "20317788",
   "metadata": {},
   "outputs": [
    {
     "name": "stdout",
     "output_type": "stream",
     "text": [
      "[{'name': 'Jan', 'age': 20, 'hobbies': ['czytanie', 'pisanie']}, {'name': 'Marcin', 'age': 30, 'hobbies': ['granie', 'duszenie']}]\n"
     ]
    }
   ],
   "source": [
    "from typing import TypedDict\n",
    "\n",
    "# A\n",
    "# Person = Dict[str, Union[str, int, List[str]]]\n",
    "class Person(TypedDict):\n",
    "    name: str\n",
    "    age: int\n",
    "    hobbies: List[str]\n",
    "# B\n",
    "def get_adults(people: List[Person]) -> List[Person]:\n",
    "    return [person for person in people if person['age'] >= 18]\n",
    "\n",
    "people: List[Person] = [\n",
    "    {'name': 'Jan', 'age': 20, 'hobbies': ['czytanie', 'pisanie']},\n",
    "    {'name': 'Alicja', 'age': 17, 'hobbies': ['rysowanie']},\n",
    "    {'name': 'Marcin', 'age': 30, 'hobbies': ['granie', 'duszenie']},\n",
    "    {'name': 'Tomek', 'age': 15, 'hobbies': ['rysowanie']},\n",
    "]\n",
    "\n",
    "adults = get_adults(people)\n",
    "print(adults)"
   ]
  },
  {
   "cell_type": "markdown",
   "id": "69cbc6d1",
   "metadata": {},
   "source": [
    "## Zadanie 4\n",
    "\n",
    "Napisz generator `countdown`, który przyjmuje liczbę całkowitą `n` i zwraca kolejne liczby od `n` do `0`. Oznacz poprawnie zwracany typ generatora.\n",
    "\n",
    "> Wskazówka: Zwróć szczególną uwagę na zwracany typ."
   ]
  },
  {
   "cell_type": "code",
   "execution_count": 10,
   "id": "6064ac08",
   "metadata": {},
   "outputs": [
    {
     "data": {
      "text/plain": [
       "0"
      ]
     },
     "execution_count": 10,
     "metadata": {},
     "output_type": "execute_result"
    }
   ],
   "source": [
    "def countdown(n: int) -> int:\n",
    "    n += 1\n",
    "    while n > 0:\n",
    "        n -= 1\n",
    "        yield n\n",
    "\n",
    "gen = countdown(5)\n",
    "next(gen)\n",
    "next(gen)\n",
    "next(gen)\n",
    "next(gen)\n",
    "next(gen)\n",
    "next(gen)\n",
    "# next(gen)"
   ]
  },
  {
   "cell_type": "markdown",
   "id": "ca4e7af2",
   "metadata": {},
   "source": [
    "## Zadanie 5\n",
    "\n",
    "Odczytaj anotacje typów funkcji z Zad. 1 i wyświetl je w postaci struktury drzewiastej (zagnieżdżonej listy). Przykładowo:\n",
    "\n",
    "```\n",
    "p1\n",
    " list\n",
    "   union\n",
    "     int\n",
    "     str\n",
    "p2\n",
    " tuple\n",
    "   str\n",
    "   list\n",
    "     int\n",
    "return\n",
    " dict\n",
    "   str\n",
    "   int\n",
    "```\n",
    "\n",
    "\n",
    "> Wskazówka: wykorzystaj `get_type_hints` (lub `__annotations__`), `get_args` (lub `__args__`), `get_origin` (lub `__origin__`).\n",
    "\n",
    "> Wskazówka 2: uwaga! nie wszystkie typy posiadają `__args__` oraz `__origin__`, więc zaleca się korzystanie z `get_args` oraz `get_origin`.\n"
   ]
  },
  {
   "cell_type": "code",
   "execution_count": 11,
   "id": "81391828",
   "metadata": {},
   "outputs": [
    {
     "name": "stdout",
     "output_type": "stream",
     "text": [
      "{'t1': typing.List[typing.Union[str, int]], 't2': typing.Tuple[str, typing.List[int]], 'return': typing.Dict[str, int]}\n",
      "t1:\n",
      "  list:\n",
      "    Union:\n",
      "      str\n",
      "      int\n",
      "t2:\n",
      "  tuple:\n",
      "    str\n",
      "    list:\n",
      "      int\n",
      "return:\n",
      "  dict:\n",
      "    str\n",
      "    int\n"
     ]
    }
   ],
   "source": [
    "from typing import get_type_hints, get_origin, get_args, List, Union, Tuple, Dict\n",
    "\n",
    "def function(t1: List[Union[str, int]], t2: Tuple[str, List[int]]) -> Dict[str, int]:\n",
    "    pass\n",
    "\n",
    "def display_struct(element, tab):\n",
    "    origin = get_origin(element)\n",
    "    args = get_args(element)\n",
    "\n",
    "    if origin is not None:\n",
    "        print(f\"{tab*'  '}{origin.__name__}:\")\n",
    "        for arg in args:\n",
    "            display_struct(arg, tab+1)\n",
    "    else:\n",
    "        print(f\"{tab*'  '}{element.__name__}\")\n",
    "\n",
    "type_hints = get_type_hints(function)\n",
    "print(type_hints)\n",
    "for name, element in type_hints.items():\n",
    "    print(name + \":\")\n",
    "    display_struct(element, 1)"
   ]
  },
  {
   "cell_type": "code",
   "execution_count": null,
   "id": "3e6ecb1c-9b6d-4a5a-ac6e-bac418dc1c2d",
   "metadata": {},
   "outputs": [],
   "source": []
  }
 ],
 "metadata": {
  "author": {
   "email": "robert.susik@p.lodz.pl",
   "name": "Robert Susik"
  },
  "kernelspec": {
   "display_name": "Python 3 (ipykernel)",
   "language": "python",
   "name": "python3"
  },
  "language_info": {
   "codemirror_mode": {
    "name": "ipython",
    "version": 3
   },
   "file_extension": ".py",
   "mimetype": "text/x-python",
   "name": "python",
   "nbconvert_exporter": "python",
   "pygments_lexer": "ipython3",
   "version": "3.13.2"
  },
  "toc": {
   "base_numbering": 1,
   "nav_menu": {},
   "number_sections": true,
   "sideBar": true,
   "skip_h1_title": false,
   "title_cell": "Table of Contents",
   "title_sidebar": "Contents",
   "toc_cell": false,
   "toc_position": {},
   "toc_section_display": true,
   "toc_window_display": false
  }
 },
 "nbformat": 4,
 "nbformat_minor": 5
}

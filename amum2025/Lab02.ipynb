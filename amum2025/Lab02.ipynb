{
 "cells": [
  {
   "cell_type": "markdown",
   "id": "9ed56307",
   "metadata": {},
   "source": [
    "# Algorytmika i matematyka uczenia maszynowego \n",
    "## Laboratorium 2\n",
    "\n",
    "Do wykonania zadań proszę zapoznać się z metodami, właściwościami, oraz funkcjami:\n",
    "`__repr__`, `__str__`, `__add__`, `__sub__`, `__eq__`, `__lt__`, `__gt__`, `__le__`, `__ge__`, `__ne__`, `__hash__`, `__truediv__`, `__mul__`, `__class__`, `__name__`, `id`.\n",
    "\n",
    "Operatory: https://docs.python.org/3/library/operator.html\n",
    "\n",
    "\n",
    "**UWAGA**: W niniejszym laboratorium proszę nie korzystać z zewnętrzych modułów/bibliotek (poza biblioteką _matplotlib_).\n",
    "\n",
    "**UWAGA 2**: Obsługę błędów należy zrealizować w postaci wyjątków.\n",
    "\n",
    "### Zadanie 1\n",
    "\n",
    "Napisz klasę `Vector` udostępniającą funkcjonalność:\n",
    "- reprezentuje wektor dowolnej długości,\n",
    "- obiekt inicjowany listą (np. `Vector([1, 2, 3])`,\n",
    "- posiada funkcję zwracającą moduł wektora,\n",
    "- umożliwia dodawanie (`+`) i odejmowanie (`-`) wektorów. Dodaj obsługę błędów (różna długość (liczba elementów) wektora),\n",
    "- możliwość wyświetlenia wektora jako listy za pomocą funkcji `print(v)` (metoda `__str__`),\n",
    "- uruchomienie komórki zawierającej jedynie nazwę zmiennej (typu `Vector`) spowoduje wyświetlenie nazwy typu `Vector`, adresu zmiennej w pamięci (funkcja `id`) oraz jej zawartości, np. `<Vector([1, 2, 3]) at 140185630442880>` (metoda `__repr__`)"
   ]
  },
  {
   "cell_type": "code",
   "execution_count": 96,
   "id": "ac82ae76",
   "metadata": {},
   "outputs": [
    {
     "name": "stdout",
     "output_type": "stream",
     "text": [
      "[2, 3]\n",
      "3.605551275463989\n",
      "[5, 8]\n"
     ]
    },
    {
     "data": {
      "text/plain": [
       "<Vector([5, 8]) at 2355519463872>"
      ]
     },
     "execution_count": 96,
     "metadata": {},
     "output_type": "execute_result"
    }
   ],
   "source": [
    "# <UZUPEŁNIJ>\n",
    "import math\n",
    "import operator\n",
    "import matplotlib.pyplot as plt\n",
    "\n",
    "class Vector: \n",
    "    \n",
    "    def __init__(self, vector):\n",
    "        self.values = vector\n",
    "\n",
    "    def __str__(self):\n",
    "        return str(self.values)\n",
    "\n",
    "    def module(self):\n",
    "        return math.sqrt(sum(num ** 2 for num in self.values))\n",
    "\n",
    "    def __add__(self, vector):\n",
    "        if len(self.values) != len(vector.values):\n",
    "            raise ValueError(\"Vectors must be of the same length\")\n",
    "        return Vector([a + b for a, b in zip(self.values, vector.values)])\n",
    "\n",
    "    def __sub__(self, vector):\n",
    "        if len(self.values) != len(vector.values):\n",
    "            raise ValueError(\"Vectors must be of the same length\")\n",
    "        return Vector([a - b for a, b in zip(self.values, vector.values)])\n",
    "\n",
    "    def __repr__(self):\n",
    "        return f\"<{self.__class__.__name__}({self.values}) at {id(self)}>\"\n",
    "\n",
    "    ## ZADANIE 2\n",
    "    def __eq__(self, vector):\n",
    "        if len(self.values) != len(vector.values):\n",
    "            raise ValueError(\"Vectors must be of the same length\")\n",
    "        return Vector([a == b for a, b in zip(self.values, vector.values)])\n",
    "\n",
    "    def __ne__(self, vector):\n",
    "        if len(self.values) != len(vector.values):\n",
    "            raise ValueError(\"Vectors must be of the same length\")\n",
    "        return Vector([a != b for a, b in zip(self.values, vector.values)])\n",
    "\n",
    "    def __lt__(self, vector):\n",
    "        if len(self.values) != len(vector.values):\n",
    "            raise ValueError(\"Vectors must be of the same length\")\n",
    "        return Vector([a < b for a, b in zip(self.values, vector.values)])\n",
    "    \n",
    "    def __le__(self, vector):\n",
    "        if len(self.values) != len(vector.values):\n",
    "            raise ValueError(\"Vectors must be of the same length\")\n",
    "        return Vector([a <= b for a, b in zip(self.values, vector.values)])\n",
    "    \n",
    "    def __gt__(self, vector):\n",
    "        if len(self.values) != len(vector.values):\n",
    "            raise ValueError(\"Vectors must be of the same length\")\n",
    "        return Vector([a > b for a, b in zip(self.values, vector.values)])\n",
    "    \n",
    "    def __ge__(self, vector):\n",
    "        if len(self.values) != len(vector.values):\n",
    "            raise ValueError(\"Vectors must be of the same length\")\n",
    "        return Vector([a >= b for a, b in zip(self.values, vector.values)])\n",
    "\n",
    "    ## ZADANIE 3:\n",
    "    def plot(self):\n",
    "        if len(self.values) != 2:\n",
    "            raise ValueError(\"Plotting is only supported for 2D vectors.\")\n",
    "        plt.figure()\n",
    "        plt.axhline(0, color='black', linewidth=0.5)\n",
    "        plt.axvline(0, color='black', linewidth=0.5)\n",
    "        plt.grid(True, linestyle='--', linewidth=0.5)\n",
    "        plt.arrow(0, 0, self.values[0], self.values[1], head_width=0.2, head_length=0.2, fc='blue', ec='blue')\n",
    "        plt.xlim(min(0, self.values[0]) - 1, max(0, self.values[0]) + 1)\n",
    "        plt.ylim(min(0, self.values[1]) - 1, max(0, self.values[1]) + 1)\n",
    "        plt.xlabel(\"X\")\n",
    "        plt.ylabel(\"Y\")\n",
    "        plt.title(\"Vector Representation\")\n",
    "        plt.show()\n",
    "\n",
    "    ## ZADANIE 4:\n",
    "    def __hash__(self):\n",
    "        return hash(tuple(self.values))\n",
    "\n",
    "    ## ZADANIE 5:\n",
    "    def __truediv__(self, value):\n",
    "        if not isinstance(value, (int, float)):\n",
    "            raise TypeError(\"Can only divide by a scalar (int or float)\")\n",
    "        if value == 0:\n",
    "            raise ValueError(\"Cannot divide by zero\")\n",
    "        return Vector([a / value for a in self.values])\n",
    "        \n",
    "    def __mul__(self, value):\n",
    "        if not isinstance(value, (int, float)):\n",
    "            raise TypeError(\"Can only divide by a scalar (int or float)\")\n",
    "        return Vector([a * value for a in self.values])\n",
    "\n",
    "\n",
    "a = Vector([2,3])\n",
    "print(a)\n",
    "print(a.module())\n",
    "b = Vector([3, 5])\n",
    "a = a + b\n",
    "print(a)\n",
    "a"
   ]
  },
  {
   "cell_type": "markdown",
   "id": "87da7375",
   "metadata": {},
   "source": [
    "### Zadanie 2\n",
    "\n",
    "Do wcześniej zaimplementowanej klasy dopisz funkcje pozwalające na porównanie wektorów za pomocą operatorów: `==`, `>=`, `<=`, `>`, `<`, `!=`. Porównanie ma zostać wykonane na poziomie elementów wektorów (_element wise_), poniżej przykład:\n",
    "\n",
    "```ipython\n",
    " In [1]: a = Vector([1, 2, 3]) \\\n",
    "    ...: b = Vector([3, 2, 1]) \\\n",
    "    ...: a <= b\n",
    "Out [1]: <Vector([True, True, False]) at 140185575662832>\n",
    "```"
   ]
  },
  {
   "cell_type": "code",
   "execution_count": 100,
   "id": "3b99972a",
   "metadata": {},
   "outputs": [
    {
     "name": "stdout",
     "output_type": "stream",
     "text": [
      "[False, False]\n",
      "[True, True]\n",
      "[False, False]\n",
      "[False, True]\n",
      "[False, True]\n",
      "[True, False]\n",
      "[True, False]\n"
     ]
    },
    {
     "data": {
      "text/plain": [
       "<Vector([True, False]) at 2355514524336>"
      ]
     },
     "execution_count": 100,
     "metadata": {},
     "output_type": "execute_result"
    }
   ],
   "source": [
    "# <UZUPEŁNIJ>\n",
    "a = Vector([2, 3])\n",
    "b = Vector([3, 2])\n",
    "c = Vector([3, 2])\n",
    "print(a == b)\n",
    "print(b == c)\n",
    "print(b != c)\n",
    "print(a > b)\n",
    "print(a >= b)\n",
    "print(a < b)\n",
    "print(a <= b)\n",
    "a <= b"
   ]
  },
  {
   "cell_type": "markdown",
   "id": "d8e9a446",
   "metadata": {},
   "source": [
    "### Zadanie 3\n",
    "\n",
    "Napisz funkcję umożliwiającą wyświetlenie wektora (`Vector`) zaczepionego w punkcie (0,0) na wykresie (zaimplementuj wyświetlanie za pomocą biblioteki `matplotlib`. \n",
    "\n",
    "> **UWAGA**: Funkcja powinna działać tylko dla wektora o dwóch wymiarach (dwuelementowa lista) - wykres 2D i wyświetlać komunikat jeżeli wymiar jest inny.\n",
    "\n",
    "> Podpowiedź: możesz wykorzystać funkcję [matplotlib.pyplot.arrow](https://matplotlib.org/3.5.1/api/_as_gen/matplotlib.pyplot.arrow.html)"
   ]
  },
  {
   "cell_type": "code",
   "execution_count": 84,
   "id": "c9f9de7b",
   "metadata": {},
   "outputs": [
    {
     "data": {
      "image/png": "[encoded data removed]",
      "text/plain": [
       "<Figure size 640x480 with 1 Axes>"
      ]
     },
     "metadata": {},
     "output_type": "display_data"
    },
    {
     "data": {
      "image/png": "[encoded data removed]",
      "text/plain": [
       "<Figure size 640x480 with 1 Axes>"
      ]
     },
     "metadata": {},
     "output_type": "display_data"
    }
   ],
   "source": [
    "# <UZUPEŁNIJ>\n",
    "a.plot()\n",
    "b.plot()"
   ]
  },
  {
   "cell_type": "markdown",
   "id": "ebc3c411",
   "metadata": {},
   "source": [
    "### Zadanie 4\n",
    "\n",
    "Dodaj możliwość zastosowania obiektu klasy `Vector` jako klucza w słowniku. Np.:\n",
    "\n",
    "```python\n",
    "d = {\n",
    "    Vector([1, 2, 3]): 'Wektor 1',\n",
    "    Vector([2, 2, 3]): 'Wektor 2'\n",
    "}\n",
    "d[Vector([2, 2, 3])]\n",
    "```"
   ]
  },
  {
   "cell_type": "code",
   "execution_count": 87,
   "id": "d1db2d39",
   "metadata": {},
   "outputs": [
    {
     "data": {
      "text/plain": [
       "'Wektor 2'"
      ]
     },
     "execution_count": 87,
     "metadata": {},
     "output_type": "execute_result"
    }
   ],
   "source": [
    "# <UZUPEŁNIJ>\n",
    "d = {\n",
    "    Vector([1, 2, 3]): 'Wektor 1',\n",
    "    Vector([2, 2, 3]): 'Wektor 2'\n",
    "}\n",
    "d[Vector([2, 2, 3])]"
   ]
  },
  {
   "cell_type": "markdown",
   "id": "8aec816a",
   "metadata": {},
   "source": [
    "### Zadanie 5\n",
    "\n",
    "Dodaj funkcjonalność:\n",
    "- dzielenia przez skalar (np. `Vector([2, 4]) / 2`),\n",
    "- mnożenia przez skalar (np. `Vector([2, 4]) * 2`).\n",
    "\n",
    "> Podpowiedź: Pamiętaj o obsłudze błędów."
   ]
  },
  {
   "cell_type": "code",
   "execution_count": 103,
   "id": "2bb3d9bb",
   "metadata": {},
   "outputs": [
    {
     "name": "stdout",
     "output_type": "stream",
     "text": [
      "[1.0, 2.0]\n",
      "[4, 8]\n"
     ]
    },
    {
     "ename": "TypeError",
     "evalue": "Can only divide by a scalar (int or float)",
     "output_type": "error",
     "traceback": [
      "\u001b[1;31m---------------------------------------------------------------------------\u001b[0m",
      "\u001b[1;31mTypeError\u001b[0m                                 Traceback (most recent call last)",
      "Cell \u001b[1;32mIn[103], line 5\u001b[0m\n\u001b[0;32m      3\u001b[0m \u001b[38;5;66;03m# print(Vector([2, 4]) / 0)\u001b[39;00m\n\u001b[0;32m      4\u001b[0m \u001b[38;5;28mprint\u001b[39m(Vector([\u001b[38;5;241m2\u001b[39m, \u001b[38;5;241m4\u001b[39m]) \u001b[38;5;241m*\u001b[39m \u001b[38;5;241m2\u001b[39m)\n\u001b[1;32m----> 5\u001b[0m \u001b[38;5;28mprint\u001b[39m(\u001b[43mVector\u001b[49m\u001b[43m(\u001b[49m\u001b[43m[\u001b[49m\u001b[38;5;241;43m2\u001b[39;49m\u001b[43m,\u001b[49m\u001b[43m \u001b[49m\u001b[38;5;241;43m4\u001b[39;49m\u001b[43m]\u001b[49m\u001b[43m)\u001b[49m\u001b[43m \u001b[49m\u001b[38;5;241;43m*\u001b[39;49m\u001b[43m \u001b[49m\u001b[38;5;124;43m'\u001b[39;49m\u001b[38;5;124;43msd\u001b[39;49m\u001b[38;5;124;43m'\u001b[39;49m)\n",
      "Cell \u001b[1;32mIn[96], line 91\u001b[0m, in \u001b[0;36mVector.__mul__\u001b[1;34m(self, value)\u001b[0m\n\u001b[0;32m     89\u001b[0m \u001b[38;5;28;01mdef\u001b[39;00m \u001b[38;5;21m__mul__\u001b[39m(\u001b[38;5;28mself\u001b[39m, value):\n\u001b[0;32m     90\u001b[0m     \u001b[38;5;28;01mif\u001b[39;00m \u001b[38;5;129;01mnot\u001b[39;00m \u001b[38;5;28misinstance\u001b[39m(value, (\u001b[38;5;28mint\u001b[39m, \u001b[38;5;28mfloat\u001b[39m)):\n\u001b[1;32m---> 91\u001b[0m         \u001b[38;5;28;01mraise\u001b[39;00m \u001b[38;5;167;01mTypeError\u001b[39;00m(\u001b[38;5;124m\"\u001b[39m\u001b[38;5;124mCan only divide by a scalar (int or float)\u001b[39m\u001b[38;5;124m\"\u001b[39m)\n\u001b[0;32m     92\u001b[0m     \u001b[38;5;28;01mreturn\u001b[39;00m Vector([a \u001b[38;5;241m*\u001b[39m value \u001b[38;5;28;01mfor\u001b[39;00m a \u001b[38;5;129;01min\u001b[39;00m \u001b[38;5;28mself\u001b[39m\u001b[38;5;241m.\u001b[39mvalues])\n",
      "\u001b[1;31mTypeError\u001b[0m: Can only divide by a scalar (int or float)"
     ]
    }
   ],
   "source": [
    "# <UZUPEŁNIJ>\n",
    "print(Vector([2, 4]) / 2)\n",
    "# print(Vector([2, 4]) / 0)\n",
    "print(Vector([2, 4]) * 2)\n",
    "print(Vector([2, 4]) * 'sd')"
   ]
  },
  {
   "cell_type": "code",
   "execution_count": null,
   "id": "d62d0ea8-d5fb-430a-9742-40c0fb00040f",
   "metadata": {},
   "outputs": [],
   "source": []
  }
 ],
 "metadata": {
  "author": {
   "email": "robert.susik@p.lodz.pl",
   "name": "Robert Susik"
  },
  "kernelspec": {
   "display_name": "Python 3 (ipykernel)",
   "language": "python",
   "name": "python3"
  },
  "language_info": {
   "codemirror_mode": {
    "name": "ipython",
    "version": 3
   },
   "file_extension": ".py",
   "mimetype": "text/x-python",
   "name": "python",
   "nbconvert_exporter": "python",
   "pygments_lexer": "ipython3",
   "version": "3.8.20"
  },
  "toc": {
   "base_numbering": 1,
   "nav_menu": {},
   "number_sections": true,
   "sideBar": true,
   "skip_h1_title": false,
   "title_cell": "Table of Contents",
   "title_sidebar": "Contents",
   "toc_cell": false,
   "toc_position": {},
   "toc_section_display": true,
   "toc_window_display": false
  }
 },
 "nbformat": 4,
 "nbformat_minor": 5
}

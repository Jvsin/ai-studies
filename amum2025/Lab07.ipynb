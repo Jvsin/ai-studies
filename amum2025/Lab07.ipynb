{
 "cells": [
  {
   "cell_type": "markdown",
   "id": "59b5dc28",
   "metadata": {},
   "source": [
    "# Algorytmika i matematyka uczenia maszynowego \n",
    "## Laboratorium 7\n"
   ]
  },
  {
   "cell_type": "markdown",
   "id": "ca4e7af2",
   "metadata": {},
   "source": [
    "### Zadanie 1\n",
    "\n",
    "W mieście liczącym 700 000 mieszkańców pojawiła się choroba, na którą choruje 1 osoba na 1000. Nie wiadomo, które osoby są chore, ale dostępny jest test diagnostyczny, którego zarówno czułość i swoistość wynosi 99% (tzn. prawdopodobieństwo uzyskania poprawnego wyniku – zarówno pozytywnego u osoby chorej, jak i negatywnego u osoby zdrowej – wynosi 99%).\n",
    "Jakie jest prawdopodobieństwo, że pacjent, który otrzymał pozytywny wynik testu jest rzeczywiście chory?\n",
    "\n",
    "#### A)\n",
    "\n",
    "Przeprowadź symulację komputerową opisanego scenariusza:\n",
    "\n",
    "- Utwórz listę mieszkańców o wielkości 700 tys. elementów, gdzie każdy element reprezentuje mieszkańca. Każdy mieszkaniec powinien posiadać dwie właściwości: *stan zdrowia* (zdrowy/chory) oraz *wynik diagnozy* (pozytywny/negatywny).\n",
    "- Losowo wybieramy 700 mieszkańców (bo 1 na 1000 osób choruje) i przypisz im *stan zdrowia* jako *chory*. Uwaga: należy dopilnować, aby nie wylosowała się dwukrotnie ta sama osoba.\n",
    "- Spośród osób chorych wylosuj 1% i przypisz im błędny wynik testu (*wynik diagnozy* = negatywny). Spośród osób zdrowych wylosuj 1% i przypisz im błędny wynik testu (*wynik diagnozy* = pozytywny).\n",
    "- Korzystając z utworzonej listy mieszkańców, oblicz prawdopodobieństwo, że osoba z pozytywnym wynikiem testu jest rzeczywiście chora, według wzoru: `liczba osób chorych z wynikiem pozytywnym` / `liczba wszystkich osob z wynikiem pozytywnym`."
   ]
  },
  {
   "cell_type": "code",
   "execution_count": 25,
   "id": "0fea1c5d",
   "metadata": {},
   "outputs": [
    {
     "name": "stdout",
     "output_type": "stream",
     "text": [
      "693 chore osoby z pozytywnym testem\n",
      "7686 wszystkie osoby z pozytywnym testem\n",
      "Prawdopodobieństwo, że osoba z pozytywnym testem jest chora: 9.02%\n"
     ]
    }
   ],
   "source": [
    "import random\n",
    "\n",
    "# 0 - zdrowy, 1 - chory\n",
    "\n",
    "population_size = 700_000\n",
    "citizens = [{'stan_zdrowia': 0, 'wynik_diagnozy': 0} for _ in range(population_size)] # wszyscy zdrowi\n",
    "\n",
    "sick_indexes = random.sample(range(population_size), int(population_size * 0.001))\n",
    "for i in sick_indexes:\n",
    "    citizens[i]['stan_zdrowia'] = 1\n",
    "    citizens[i]['wynik_diagnozy'] = 1 \n",
    "\n",
    "false_sickness = random.sample(sick_indexes, int(0.01 * len(sick_indexes)))\n",
    "for i in false_sickness:\n",
    "    citizens[i]['wynik_diagnozy'] = 0\n",
    "\n",
    "healthy_citizens = [i for i in range(population_size) if citizens[i]['stan_zdrowia'] == 0]\n",
    "false_healthiness = random.sample(healthy_citizens, int(0.01 * len(healthy_citizens)))\n",
    "for i in false_healthiness:\n",
    "    citizens[i]['wynik_diagnozy'] = 1\n",
    "\n",
    "# print(citizens.count({'stan_zdrowia': 0, 'wynik_diagnozy': 1}), \"zdrowych chorych\")\n",
    "# print(citizens.count({'stan_zdrowia': 1, 'wynik_diagnozy': 0}), \"chorych zdrowych\")\n",
    "\n",
    "positive_cases = [p for p in citizens if p['stan_zdrowia'] == 1 and p['wynik_diagnozy'] == 1]\n",
    "sick_positive = [p for p in citizens if p['wynik_diagnozy'] == 1]\n",
    "\n",
    "print(len(positive_cases), \"chore osoby z pozytywnym testem\")\n",
    "print(len(sick_positive), \"wszystkie osoby z pozytywnym testem\")\n",
    "\n",
    "probability = len(positive_cases) / len(sick_positive)\n",
    "print(f\"Prawdopodobieństwo, że osoba z pozytywnym testem jest chora: {probability*100:.2f}%\")\n"
   ]
  },
  {
   "cell_type": "markdown",
   "id": "46aa035b",
   "metadata": {},
   "source": [
    "#### B)\n",
    "\n",
    "Napisz funkcję, która zwróci wynik obliczony ze wzoru Bayesa. Następnie zmierz i porównaj czas wykonania obliczeń w obu przypadkach: symulacji komputerowej oraz wzoru Bayesa.\n",
    "\n",
    "\n"
   ]
  },
  {
   "cell_type": "code",
   "execution_count": null,
   "id": "1119d040",
   "metadata": {},
   "outputs": [],
   "source": []
  },
  {
   "cell_type": "markdown",
   "id": "2850f724",
   "metadata": {},
   "source": [
    "#### C)\n",
    "\n",
    "Wyświetl wykres, gdzie na osi X znajduje się czułość i swoistość testu (przyjmij zakres 50%-99.99%), a na osi Y znajduje się _prawdopodobieństwo, że osoba z pozytywnym wynikiem jest chora_ (użyj funkcji z podpunktu B)."
   ]
  },
  {
   "cell_type": "code",
   "execution_count": null,
   "id": "7359c283",
   "metadata": {},
   "outputs": [],
   "source": [
    "# << UZUPEŁNIJ >>"
   ]
  },
  {
   "cell_type": "markdown",
   "id": "2b0253f8",
   "metadata": {},
   "source": [
    "### Zadanie 2\n",
    "\n",
    "Sprawdź (symulacją) ile średnio razy należy losować 13 kart, aby trafia się \"ręka\" zawierająca $\\ge 8$ kart w jednym kolorze. Możemy to zrobić następująco: losujemy 13 kart z 52 (wiec \"ręki\" jak w brydzu) tak długo, aż w którymkolwiek kolorze dostaniemy $\\ge 8$ kart, zapisujemy liczbę przeprowadzonych losowań i podejmujemy kolejną próbę. Przeprowadź 1000 takich prób i oblicz średnią liczbę losowań. \n",
    "\n",
    "Dodatkowo wypisz jedną (np. ostatnią) wylosowaną \"rękę\"."
   ]
  },
  {
   "cell_type": "code",
   "execution_count": null,
   "id": "622ec278",
   "metadata": {},
   "outputs": [],
   "source": [
    "# << UZUPEŁNIJ >>"
   ]
  }
 ],
 "metadata": {
  "author": {
   "email": "robert.susik@p.lodz.pl",
   "name": "Robert Susik"
  },
  "kernelspec": {
   "display_name": "amum2025",
   "language": "python",
   "name": "python3"
  },
  "language_info": {
   "codemirror_mode": {
    "name": "ipython",
    "version": 3
   },
   "file_extension": ".py",
   "mimetype": "text/x-python",
   "name": "python",
   "nbconvert_exporter": "python",
   "pygments_lexer": "ipython3",
   "version": "3.13.2"
  },
  "toc": {
   "base_numbering": 1,
   "nav_menu": {},
   "number_sections": true,
   "sideBar": true,
   "skip_h1_title": false,
   "title_cell": "Table of Contents",
   "title_sidebar": "Contents",
   "toc_cell": false,
   "toc_position": {},
   "toc_section_display": true,
   "toc_window_display": false
  }
 },
 "nbformat": 4,
 "nbformat_minor": 5
}

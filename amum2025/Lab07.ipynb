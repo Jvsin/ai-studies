{
 "cells": [
  {
   "cell_type": "markdown",
   "id": "59b5dc28",
   "metadata": {},
   "source": [
    "# Algorytmika i matematyka uczenia maszynowego \n",
    "## Laboratorium 7\n"
   ]
  },
  {
   "cell_type": "markdown",
   "id": "ca4e7af2",
   "metadata": {},
   "source": [
    "### Zadanie 1\n",
    "\n",
    "W mieście liczącym 700 000 mieszkańców pojawiła się choroba, na którą choruje 1 osoba na 1000. Nie wiadomo, które osoby są chore, ale dostępny jest test diagnostyczny, którego zarówno czułość i swoistość wynosi 99% (tzn. prawdopodobieństwo uzyskania poprawnego wyniku – zarówno pozytywnego u osoby chorej, jak i negatywnego u osoby zdrowej – wynosi 99%).\n",
    "Jakie jest prawdopodobieństwo, że pacjent, który otrzymał pozytywny wynik testu jest rzeczywiście chory?\n",
    "\n",
    "#### A)\n",
    "\n",
    "Przeprowadź symulację komputerową opisanego scenariusza:\n",
    "\n",
    "- Utwórz listę mieszkańców o wielkości 700 tys. elementów, gdzie każdy element reprezentuje mieszkańca. Każdy mieszkaniec powinien posiadać dwie właściwości: *stan zdrowia* (zdrowy/chory) oraz *wynik diagnozy* (pozytywny/negatywny).\n",
    "- Losowo wybieramy 700 mieszkańców (bo 1 na 1000 osób choruje) i przypisz im *stan zdrowia* jako *chory*. Uwaga: należy dopilnować, aby nie wylosowała się dwukrotnie ta sama osoba.\n",
    "- Spośród osób chorych wylosuj 1% i przypisz im błędny wynik testu (*wynik diagnozy* = negatywny). Spośród osób zdrowych wylosuj 1% i przypisz im błędny wynik testu (*wynik diagnozy* = pozytywny).\n",
    "- Korzystając z utworzonej listy mieszkańców, oblicz prawdopodobieństwo, że osoba z pozytywnym wynikiem testu jest rzeczywiście chora, według wzoru: `liczba osób chorych z wynikiem pozytywnym` / `liczba wszystkich osob z wynikiem pozytywnym`."
   ]
  },
  {
   "cell_type": "code",
   "execution_count": 50,
   "id": "0fea1c5d",
   "metadata": {},
   "outputs": [
    {
     "name": "stdout",
     "output_type": "stream",
     "text": [
      "6993 zdrowych chorych\n",
      "7 chorych zdrowych\n",
      "693 chore osoby z pozytywnym testem\n",
      "7686 wszystkie osoby z pozytywnym testem\n",
      "Prawdopodobieństwo, że osoba z pozytywnym testem jest chora: 9.02%\n",
      "Czas wykonania: 0.36 sekund\n"
     ]
    }
   ],
   "source": [
    "import random\n",
    "import time\n",
    "# 0 - zdrowy, 1 - chory\n",
    "start = time.time()\n",
    "population_size = 700_000\n",
    "citizens = [{'stan_zdrowia': 0, 'wynik_diagnozy': 0} for _ in range(population_size)] # wszyscy zdrowi\n",
    "\n",
    "sick_indexes = random.sample(range(population_size), int(population_size * 0.001))\n",
    "for i in sick_indexes:\n",
    "    citizens[i]['stan_zdrowia'] = 1\n",
    "    citizens[i]['wynik_diagnozy'] = 1 \n",
    "\n",
    "false_sickness = random.sample(sick_indexes, int(0.01 * len(sick_indexes)))\n",
    "for i in false_sickness:\n",
    "    citizens[i]['wynik_diagnozy'] = 0\n",
    "\n",
    "healthy_citizens = [i for i in range(population_size) if citizens[i]['stan_zdrowia'] == 0 and citizens[i]['wynik_diagnozy'] == 0]\n",
    "false_healthiness = random.sample(healthy_citizens, int(0.01 * len(healthy_citizens)))\n",
    "for i in false_healthiness:\n",
    "    citizens[i]['wynik_diagnozy'] = 1\n",
    "\n",
    "print(citizens.count({'stan_zdrowia': 0, 'wynik_diagnozy': 1}), \"zdrowych chorych\")\n",
    "print(citizens.count({'stan_zdrowia': 1, 'wynik_diagnozy': 0}), \"chorych zdrowych\")\n",
    "\n",
    "positive_cases = [p for p in citizens if p['stan_zdrowia'] == 1 and p['wynik_diagnozy'] == 1]\n",
    "sick_positive = [p for p in citizens if p['wynik_diagnozy'] == 1]\n",
    "\n",
    "print(len(positive_cases), \"chore osoby z pozytywnym testem\")\n",
    "print(len(sick_positive), \"wszystkie osoby z pozytywnym testem\")\n",
    "\n",
    "probability = len(positive_cases) / len(sick_positive)\n",
    "end = time.time()\n",
    "print(f\"Prawdopodobieństwo, że osoba z pozytywnym testem jest chora: {probability*100:.2f}%\")\n",
    "print(f\"Czas wykonania: {end - start:.2f} sekund\")\n",
    "\n"
   ]
  },
  {
   "cell_type": "markdown",
   "id": "46aa035b",
   "metadata": {},
   "source": [
    "#### B)\n",
    "\n",
    "Napisz funkcję, która zwróci wynik obliczony ze wzoru Bayesa. Następnie zmierz i porównaj czas wykonania obliczeń w obu przypadkach: symulacji komputerowej oraz wzoru Bayesa.\n",
    "\n",
    "\n"
   ]
  },
  {
   "cell_type": "code",
   "execution_count": 53,
   "id": "1119d040",
   "metadata": {},
   "outputs": [
    {
     "name": "stdout",
     "output_type": "stream",
     "text": [
      "p_A: 0.001 (prawdopodobieństwo, że osoba jest chora z całej populacji)\n",
      "p_B: 0.01098 (prawdopodobieństwo, że osoba ma pozytywny wynik testu z całej populacji)\n",
      "p_B_A: 0.99 (prawdopodobieństwo, że osoba ma pozytywny wynik testu wsród osób chorych)\n",
      "Prawdopodobieństwo ze wzoru Bayesa: 9.02%\n",
      "Czas obliczeń: 0.000048 s\n"
     ]
    }
   ],
   "source": [
    "import time\n",
    "\n",
    "def bayesian_probability(p_A, p_B, p_B_A):\n",
    "    return (p_B_A * p_A) / p_B\n",
    "# P(A) - prawdopodobieństwo, że osoba jest chora\n",
    "sick_people = len([p for p in citizens if p['stan_zdrowia'] == 1])\n",
    "p_A = sick_people / population_size\n",
    "print(f\"p_A: {p_A} (prawdopodobieństwo, że osoba jest chora z całej populacji)\")\n",
    "# P(B) - prawdopodobieństwo, że osoba ma pozytywny wynik testu\n",
    "sick_diagnosed = len([p for p in citizens if p['wynik_diagnozy'] == 1])\n",
    "p_B = sick_diagnosed / population_size\n",
    "print(f\"p_B: {p_B} (prawdopodobieństwo, że osoba ma pozytywny wynik testu z całej populacji)\")\n",
    "# P(B|A) - prawdopodobieństwo, że osoba ma pozytywny wynik testu, gdy jest chora\n",
    "sick_positive = len([p for p in citizens if p['stan_zdrowia'] == 1 and p['wynik_diagnozy'] == 1])\n",
    "p_B_A = sick_positive / sick_people\n",
    "print(f\"p_B_A: {p_B_A} (prawdopodobieństwo, że osoba ma pozytywny wynik testu wsród osób chorych)\")\n",
    "\n",
    "start = time.time()\n",
    "res = bayesian_probability(p_A, p_B, p_B_A)\n",
    "end = time.time()\n",
    "print(f\"Prawdopodobieństwo ze wzoru Bayesa: {res*100:.2f}%\") \n",
    "print(f\"Czas obliczeń: {end - start:.6f} s\") "
   ]
  },
  {
   "cell_type": "markdown",
   "id": "2850f724",
   "metadata": {},
   "source": [
    "#### C)\n",
    "\n",
    "Wyświetl wykres, gdzie na osi X znajduje się czułość i swoistość testu (przyjmij zakres 50%-99.99%), a na osi Y znajduje się _prawdopodobieństwo, że osoba z pozytywnym wynikiem jest chora_ (użyj funkcji z podpunktu B)."
   ]
  },
  {
   "cell_type": "code",
   "execution_count": 23,
   "id": "7359c283",
   "metadata": {},
   "outputs": [
    {
     "data": {
      "image/png": "[encoded data removed]",
      "text/plain": [
       "<Figure size 800x600 with 1 Axes>"
      ]
     },
     "metadata": {},
     "output_type": "display_data"
    }
   ],
   "source": [
    "import numpy as np\n",
    "import matplotlib.pyplot as plt\n",
    "\n",
    "def bayes_positive_given_sick(sensitivity, specificity, prevalence):\n",
    "    sensitivity = np.asarray(sensitivity)\n",
    "    specificity = np.asarray(specificity)\n",
    "    p_positive = sensitivity * prevalence + (1 - specificity) * (1 - prevalence)\n",
    "    return (sensitivity * prevalence) / p_positive\n",
    "\n",
    "is_sick = 0.001\n",
    "sensitivity_range = np.linspace(0.5, 0.9999, 200)\n",
    "specificity_range = np.linspace(0.5, 0.9999, 200)\n",
    "\n",
    "probabilities = bayes_positive_given_sick(sensitivity_range, sensitivity_range, is_sick)\n",
    "\n",
    "plt.figure(figsize=(8, 6))\n",
    "plt.plot(sensitivity_range, probabilities)\n",
    "plt.xlabel('Czułość i swoistość')\n",
    "plt.ylabel('P-stwo że osoba z pozytywnym testem jest chora')\n",
    "plt.grid()\n",
    "plt.show()"
   ]
  },
  {
   "cell_type": "markdown",
   "id": "2b0253f8",
   "metadata": {},
   "source": [
    "### Zadanie 2\n",
    "\n",
    "Sprawdź (symulacją) ile średnio razy należy losować 13 kart, aby trafia się \"ręka\" zawierająca $\\ge 8$ kart w jednym kolorze. Możemy to zrobić następująco: losujemy 13 kart z 52 (wiec \"ręki\" jak w brydzu) tak długo, aż w którymkolwiek kolorze dostaniemy $\\ge 8$ kart, zapisujemy liczbę przeprowadzonych losowań i podejmujemy kolejną próbę. Przeprowadź 1000 takich prób i oblicz średnią liczbę losowań. \n",
    "\n",
    "Dodatkowo wypisz jedną (np. ostatnią) wylosowaną \"rękę\"."
   ]
  },
  {
   "cell_type": "code",
   "execution_count": 13,
   "id": "622ec278",
   "metadata": {},
   "outputs": [
    {
     "name": "stdout",
     "output_type": "stream",
     "text": [
      "Wynik: {'Karo': 2, 'Trefl': 8, 'Kier': 1, 'Pik': 2}\n",
      "Wylosowane karty: ['Pik 9', 'Trefl Q', 'Trefl 7', 'Trefl A', 'Trefl 6', 'Karo 9', 'Pik 2', 'Karo 5', 'Trefl 5', 'Kier 3', 'Trefl 10', 'Trefl 4', 'Trefl K']\n",
      "Średnia liczba prób do wylosowania ręki z 8 lub więcej kartami tego samego koloru: 201.28\n"
     ]
    }
   ],
   "source": [
    "import random\n",
    "\n",
    "cards = {\n",
    "    'Karo': ['2', '3', '4', '5', '6', '7', '8', '9', '10', 'J', 'Q', 'K', 'A'],\n",
    "    'Trefl': ['2', '3', '4', '5', '6', '7', '8', '9', '10', 'J', 'Q', 'K', 'A'],\n",
    "    'Kier': ['2', '3', '4', '5', '6', '7', '8', '9', '10', 'J', 'Q', 'K', 'A'],\n",
    "    'Pik': ['2', '3', '4', '5', '6', '7', '8', '9', '10', 'J', 'Q', 'K', 'A']\n",
    "}\n",
    "\n",
    "\n",
    "def draw_card(drawn_cards):\n",
    "    while True:\n",
    "        suit = random.choice(list(cards.keys()))\n",
    "        rank = random.choice(cards[suit])\n",
    "        card = f\"{suit} {rank}\"\n",
    "        if card not in drawn_cards: \n",
    "            return card\n",
    "\n",
    "def draw_cards(num):\n",
    "    drawn_cards = []\n",
    "    for _ in range(num):\n",
    "        if len(drawn_cards) < sum(len(suit) for suit in cards.values()): \n",
    "            drawn_cards.append(draw_card(drawn_cards))\n",
    "        else:\n",
    "            break\n",
    "    return drawn_cards\n",
    "\n",
    "color_flag = False\n",
    "iterations = 0\n",
    "for _ in range(1000):\n",
    "    scores = 0\n",
    "    while not color_flag:\n",
    "        iterations += 1\n",
    "        drawn_cards = draw_cards(13)\n",
    "        res = {'Karo': 0, 'Trefl': 0, 'Kier': 0, 'Pik': 0}\n",
    "        for card in drawn_cards:\n",
    "            suit = card.split()[0]\n",
    "            res[suit] += 1\n",
    "        if any(count >= 8 for count in res.values()):\n",
    "            color_flag = True\n",
    "            if _ == 999:\n",
    "                print(\"Wynik:\", res)\n",
    "                print(\"Wylosowane karty:\", drawn_cards)\n",
    "    scores += iterations\n",
    "    color_flag = False\n",
    "\n",
    "print(f\"Średnia liczba prób do wylosowania ręki z 8 lub więcej kartami tego samego koloru: {scores / 1000:.2f}\")\n",
    "        \n"
   ]
  },
  {
   "cell_type": "code",
   "execution_count": null,
   "id": "ca1ced53",
   "metadata": {},
   "outputs": [],
   "source": []
  }
 ],
 "metadata": {
  "author": {
   "email": "robert.susik@p.lodz.pl",
   "name": "Robert Susik"
  },
  "kernelspec": {
   "display_name": "amum2025",
   "language": "python",
   "name": "python3"
  },
  "language_info": {
   "codemirror_mode": {
    "name": "ipython",
    "version": 3
   },
   "file_extension": ".py",
   "mimetype": "text/x-python",
   "name": "python",
   "nbconvert_exporter": "python",
   "pygments_lexer": "ipython3",
   "version": "3.13.2"
  },
  "toc": {
   "base_numbering": 1,
   "nav_menu": {},
   "number_sections": true,
   "sideBar": true,
   "skip_h1_title": false,
   "title_cell": "Table of Contents",
   "title_sidebar": "Contents",
   "toc_cell": false,
   "toc_position": {},
   "toc_section_display": true,
   "toc_window_display": false
  }
 },
 "nbformat": 4,
 "nbformat_minor": 5
}

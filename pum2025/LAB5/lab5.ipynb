{
 "cells": [
  {
   "cell_type": "markdown",
   "id": "a9b294a7",
   "metadata": {},
   "source": [
    "# LABORATORIUM 5 - DRZEWO DECYZYJNE"
   ]
  },
  {
   "cell_type": "markdown",
   "id": "664e8f39",
   "metadata": {},
   "source": [
    "### 5.1 Implementacja drzewa decyzyjnego"
   ]
  },
  {
   "cell_type": "code",
   "execution_count": null,
   "id": "e69711a0",
   "metadata": {},
   "outputs": [],
   "source": [
    "import numpy as np\n",
    "from collections import Counter\n",
    "from sklearn.datasets import make_classification\n",
    "from sklearn.tree import DecisionTreeClassifier as SkDecisionTree\n",
    "from sklearn.model_selection import train_test_split\n",
    "from sklearn.metrics import accuracy_score\n",
    "import matplotlib.pyplot as plt\n",
    "from sklearn.datasets import make_blobs\n",
    "from sklearn.datasets import make_moons\n"
   ]
  },
  {
   "cell_type": "markdown",
   "id": "cbac6154",
   "metadata": {},
   "source": [
    "#### Generowanie danych:"
   ]
  },
  {
   "cell_type": "code",
   "execution_count": null,
   "id": "ffb72e03",
   "metadata": {},
   "outputs": [],
   "source": [
    "def generate_data(n_samples, n_features, random_state):\n",
    "    X, y = make_classification(\n",
    "        n_samples=n_samples,\n",
    "        n_features=n_features,\n",
    "        n_informative=n_features,\n",
    "        n_redundant=0,\n",
    "        n_clusters_per_class=1,\n",
    "        random_state=random_state\n",
    "    )\n",
    "    # y = 2 * y - 1\n",
    "    return X, y\n",
    "\n",
    "def generate_moons(n_samples, random_state):\n",
    "    X_moons, y_moons = make_moons(n_samples=n_samples, noise=0.1, random_state=random_state)\n",
    "    # y_moons = 2 * y_moons - 1\n",
    "    return X_moons, y_moons\n",
    "\n",
    "def generate_blobs(n_samples, n_features, random_state):\n",
    "    X_uni, y_uni = make_blobs(n_samples=n_samples, centers=2, n_features=n_features, random_state=random_state)\n",
    "    # y_uni = 2 * y_uni - 1\n",
    "    return X_uni, y_uni"
   ]
  },
  {
   "cell_type": "markdown",
   "id": "3e2f36b0",
   "metadata": {},
   "source": [
    "#### Implementacja własnej funkcji do drzewa:"
   ]
  },
  {
   "cell_type": "code",
   "execution_count": null,
   "id": "3de3ba88",
   "metadata": {},
   "outputs": [],
   "source": [
    "class Node:\n",
    "    def __init__(self, feature=None, threshold=None, left=None, right=None, value=None):\n",
    "        self.feature = feature\n",
    "        self.threshold = threshold\n",
    "        self.left = left\n",
    "        self.right = right\n",
    "        self.value = value\n",
    "\n",
    "    def is_leaf(self):\n",
    "        return self.value is not None\n",
    "\n",
    "class DecisionTree:\n",
    "    def __init__(self, max_depth=None):\n",
    "        self.max_depth = max_depth\n",
    "        self.tree = None\n",
    "\n",
    "    def fit(self, X, y):\n",
    "        self.n_classes = len(np.unique(y))\n",
    "        self.n_features = X.shape[1]\n",
    "    \n",
    "    def entropy(self, y):\n",
    "        counts = np.bincount(y, minlength=self.n_classes)\n",
    "        probs = counts / len(y)\n",
    "        probs = probs[probs > 0] # usuwamy zera by uniknąć log(0)\n",
    "        return -np.sum(probs * np.log2(probs))\n",
    "    \n",
    "    def information_gain(self, X, y, feature, threshold):\n",
    "        parent_entropy = self.entropy(y)\n",
    "        feature_data = X[:, feature]\n",
    "        left_mask = feature_data <= threshold\n",
    "        right_mask = ~left_mask\n",
    "\n",
    "        if np.sum(left_mask) == 0 or np.sum(right_mask) == 0: ## jeśli nie ma podziału to zysk informacyjny jest zerowy\n",
    "            return 0\n",
    "\n",
    "        left_entropy = self.entropy(y[left_mask])\n",
    "        right_entropy = self.entropy(y[right_mask])\n",
    "        n = len(y)\n",
    "        n_left, n_right = np.sum(left_mask), np.sum(right_mask)\n",
    "        child_entropy = (n_left / n) * left_entropy + (n_right / n) * right_entropy\n",
    "        return parent_entropy - child_entropy\n",
    "    \n",
    "    def find_best_threshold(self, X, y):\n",
    "        best_gain = -1\n",
    "        best_feature = None\n",
    "        best_threshold = None\n",
    "\n",
    "        for feature in range(self.n_features):\n",
    "            thresholds = np.unique(X[:, feature])\n",
    "            for threshold in thresholds:\n",
    "                gain = self.information_gain(X, y, feature, threshold)\n",
    "                if gain > best_gain:\n",
    "                    best_gain = gain\n",
    "                    best_feature = feature\n",
    "                    best_threshold = threshold\n",
    "\n",
    "        return best_feature, best_threshold\n",
    "    \n",
    "    def build_tree(self, X, y, depth):\n",
    "        n_samples = len(y)\n",
    "        n_labels = len(np.unique(y))\n",
    "\n",
    "        # Warunki zatrzymania\n",
    "        if (self.max_depth is not None and depth >= self.max_depth) or n_labels == 1 or n_samples < 2:\n",
    "            leaf_value = Counter(y).most_common(1)[0][0]\n",
    "            return Node(value=leaf_value)\n",
    "\n",
    "        # Znajdź najlepszy podział\n",
    "        feature, threshold = self.find_best_threshold(X, y)\n",
    "        if feature is None:  # Brak poprawy\n",
    "            leaf_value = Counter(y).most_common(1)[0][0]\n",
    "            return Node(value=leaf_value)\n",
    "\n",
    "        # Podział danych\n",
    "        left_mask = X[:, feature] <= threshold\n",
    "        right_mask = ~left_mask\n",
    "        left = self.build_tree(X[left_mask], y[left_mask], depth + 1)\n",
    "        right = self.build_tree(X[right_mask], y[right_mask], depth + 1)\n",
    "\n",
    "        return Node(feature, threshold, left, right)\n",
    "    "
   ]
  },
  {
   "cell_type": "code",
   "execution_count": null,
   "id": "ed360775",
   "metadata": {},
   "outputs": [],
   "source": []
  }
 ],
 "metadata": {
  "kernelspec": {
   "display_name": "base",
   "language": "python",
   "name": "python3"
  },
  "language_info": {
   "codemirror_mode": {
    "name": "ipython",
    "version": 3
   },
   "file_extension": ".py",
   "mimetype": "text/x-python",
   "name": "python",
   "nbconvert_exporter": "python",
   "pygments_lexer": "ipython3",
   "version": "3.12.7"
  }
 },
 "nbformat": 4,
 "nbformat_minor": 5
}
